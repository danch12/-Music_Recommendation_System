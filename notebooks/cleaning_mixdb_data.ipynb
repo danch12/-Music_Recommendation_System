{
 "cells": [
  {
   "cell_type": "code",
   "execution_count": 3,
   "metadata": {
    "ExecuteTime": {
     "end_time": "2020-04-17T11:53:06.239504Z",
     "start_time": "2020-04-17T11:53:04.900628Z"
    }
   },
   "outputs": [],
   "source": [
    "#import requests\n",
    "#import bs4\n",
    "#from bs4 import BeautifulSoup\n",
    "\n",
    "import pandas as pd\n",
    "import numpy as np\n",
    "import config\n",
    "from tqdm import tqdm_notebook\n",
    "import tqdm\n",
    "#from selenium.common.exceptions import NoSuchElementException, ElementClickInterceptedException\n",
    "#from selenium import webdriver\n",
    "import time\n",
    "import pickle\n",
    "import re\n",
    "import spotipy\n",
    "from spotipy.oauth2 import SpotifyClientCredentials\n",
    "from spotipy import oauth2\n",
    "import spotipy.util as util\n",
    "from scipy.sparse import coo_matrix"
   ]
  },
  {
   "cell_type": "markdown",
   "metadata": {},
   "source": [
    "## Cleaning Data"
   ]
  },
  {
   "cell_type": "code",
   "execution_count": 95,
   "metadata": {
    "ExecuteTime": {
     "end_time": "2020-04-14T10:29:14.732394Z",
     "start_time": "2020-04-14T10:29:14.566967Z"
    }
   },
   "outputs": [],
   "source": [
    "with open('17375_mixes.pickle', 'rb') as handle:\n",
    "    set_list_with_titles = pickle.load(handle)"
   ]
  },
  {
   "cell_type": "code",
   "execution_count": 92,
   "metadata": {
    "ExecuteTime": {
     "end_time": "2020-04-14T10:28:43.337352Z",
     "start_time": "2020-04-14T10:28:43.332646Z"
    }
   },
   "outputs": [],
   "source": [
    "expanded_set_lists=[]\n",
    "for val in set_list_with_titles:\n",
    "    expanded_set_lists.append([tup for tup in val])\n",
    "expanded_set_lists=[x for sublist in expanded_set_lists for x in sublist]"
   ]
  },
  {
   "cell_type": "code",
   "execution_count": null,
   "metadata": {
    "ExecuteTime": {
     "end_time": "2020-04-06T19:16:21.972769Z",
     "start_time": "2020-04-06T19:16:21.948468Z"
    }
   },
   "outputs": [],
   "source": [
    "set_lists_df=pd.DataFrame(expanded_set_lists)\n",
    "set_lists_df.columns=['set_title','set_list']\n",
    "set_lists_df.set_title.drop_duplicates(inplace=True)"
   ]
  },
  {
   "cell_type": "code",
   "execution_count": null,
   "metadata": {
    "ExecuteTime": {
     "end_time": "2020-04-07T09:56:11.345456Z",
     "start_time": "2020-04-07T09:56:09.821448Z"
    }
   },
   "outputs": [],
   "source": [
    "set_lists_expanded_df=set_lists_df.set_index('set_title').explode('set_list').reset_index()\n",
    "set_lists_expanded_df.dropna(inplace=True)\n",
    "#gets rid of timestamps\n",
    "set_lists_expanded_df.set_list=set_lists_expanded_df.set_list.map(lambda x :re.sub('^(\\[[0-9]*:*[0-9]*])','',x))\n",
    "set_lists_expanded_df.set_list=set_lists_expanded_df.set_list.map(lambda x :re.sub('(\\[[0-9]*:*[0-9]*])','',x))\n",
    "#replaces songs that are questionmarks with np.NaNs\n",
    "set_lists_expanded_df.set_list.replace('^[\\[ ].?\\?',np.NaN,regex=True,inplace=True)\n",
    "set_lists_expanded_df.set_list.replace('^\\?',np.NaN,regex=True,inplace=True)"
   ]
  },
  {
   "cell_type": "code",
   "execution_count": null,
   "metadata": {
    "ExecuteTime": {
     "end_time": "2020-04-07T09:56:14.699631Z",
     "start_time": "2020-04-07T09:56:13.018659Z"
    }
   },
   "outputs": [],
   "source": [
    "set_lists_expanded_df['year'] = set_lists_expanded_df.set_title.map(lambda x:x.split(' - ')[0])\n",
    "set_lists_expanded_df.set_title.replace('([0-9]+[-][0-9]+[-]?[0-9]+)','',regex=True,inplace=True)\n",
    "#splitting out the dj name\n",
    "set_lists_expanded_df['set_title_split']=set_lists_expanded_df.set_title.map(lambda x: x.split(' - ')[1] if len(x.split(' - '))>1 else x.split('-')[1])\n",
    "set_lists_expanded_df['set_title_split']=set_lists_expanded_df['set_title_split'].map(lambda x:x.split('@')[0])"
   ]
  },
  {
   "cell_type": "code",
   "execution_count": null,
   "metadata": {
    "ExecuteTime": {
     "end_time": "2020-04-07T09:56:14.936122Z",
     "start_time": "2020-04-07T09:56:14.925250Z"
    }
   },
   "outputs": [],
   "source": [
    "set_lists_expanded_df.head()"
   ]
  },
  {
   "cell_type": "code",
   "execution_count": null,
   "metadata": {
    "ExecuteTime": {
     "end_time": "2020-04-07T09:56:14.999703Z",
     "start_time": "2020-04-07T09:56:14.939959Z"
    }
   },
   "outputs": [],
   "source": [
    "set_lists_expanded_df=set_lists_expanded_df[set_lists_expanded_df.set_title_split != 'VA']"
   ]
  },
  {
   "cell_type": "code",
   "execution_count": null,
   "metadata": {
    "ExecuteTime": {
     "end_time": "2020-04-07T09:56:16.461525Z",
     "start_time": "2020-04-07T09:56:16.322302Z"
    }
   },
   "outputs": [],
   "source": [
    "set_lists_expanded_df.dropna(inplace=True)"
   ]
  },
  {
   "cell_type": "code",
   "execution_count": null,
   "metadata": {
    "ExecuteTime": {
     "end_time": "2020-04-07T09:56:17.225682Z",
     "start_time": "2020-04-07T09:56:16.464023Z"
    }
   },
   "outputs": [],
   "source": [
    "def split_song(x):\n",
    "    try:\n",
    "        y=x.split(' - ')\n",
    "        return y[1]\n",
    "    except:\n",
    "        #loads of ways that the songs are recorded and how missing songs are recorded too\n",
    "        if '...' in x:\n",
    "            return np.NaN\n",
    "        if x =='X':\n",
    "            return np.NaN\n",
    "        if '?' in x:\n",
    "            return np.NaN\n",
    "        if 'Intro' in x:\n",
    "            return np.NaN\n",
    "        if '•' in x:\n",
    "            return x.split('•')[1]\n",
    "        #no space\n",
    "        if '-' in x:\n",
    "            return x.split('-')[1]\n",
    "        \n",
    "        \n",
    "        return x"
   ]
  },
  {
   "cell_type": "code",
   "execution_count": null,
   "metadata": {
    "ExecuteTime": {
     "end_time": "2020-04-07T09:56:17.958846Z",
     "start_time": "2020-04-07T09:56:17.230017Z"
    }
   },
   "outputs": [],
   "source": [
    "set_lists_expanded_df['artist']=set_lists_expanded_df.set_list.map(lambda x:x.split(' - ')[0])\n",
    "set_lists_expanded_df['song']=set_lists_expanded_df.set_list.map(split_song)"
   ]
  },
  {
   "cell_type": "code",
   "execution_count": null,
   "metadata": {
    "ExecuteTime": {
     "end_time": "2020-04-07T09:56:17.968942Z",
     "start_time": "2020-04-07T09:56:17.960933Z"
    }
   },
   "outputs": [],
   "source": [
    "#more different unusable song titles\n",
    "filter_names_list= ['ID','?','Unknown','Unreleased','Intro','Untitled [Unreleased]','Untitled','Promo','? [Unreleased]','Outro']\n",
    "set_lists_expanded_df['song']=set_lists_expanded_df['song'].map(lambda x: np.NaN if x in filter_names_list else x)"
   ]
  },
  {
   "cell_type": "code",
   "execution_count": null,
   "metadata": {
    "ExecuteTime": {
     "end_time": "2020-04-07T09:56:18.384547Z",
     "start_time": "2020-04-07T09:56:18.312941Z"
    }
   },
   "outputs": [],
   "source": [
    "set_lists_expanded_df.artist=set_lists_expanded_df.artist.replace('N/A',np.NaN)"
   ]
  },
  {
   "cell_type": "code",
   "execution_count": null,
   "metadata": {
    "ExecuteTime": {
     "end_time": "2020-04-07T09:56:18.827086Z",
     "start_time": "2020-04-07T09:56:18.387475Z"
    }
   },
   "outputs": [],
   "source": [
    "set_lists_expanded_df.dropna(inplace=True)"
   ]
  },
  {
   "cell_type": "code",
   "execution_count": null,
   "metadata": {
    "ExecuteTime": {
     "end_time": "2020-04-07T10:15:45.724883Z",
     "start_time": "2020-04-07T10:15:45.714424Z"
    }
   },
   "outputs": [],
   "source": [
    "set_lists_expanded_df.tail()\n",
    "#can see that its taken a bit off of the some of the songs but think that may actually work in my favour\n",
    "#a lot of the time spotify wont have the exact same song title (usually shorter on spotify) as mixesdb \n",
    "#so shortening names may be preferable\n"
   ]
  },
  {
   "cell_type": "code",
   "execution_count": null,
   "metadata": {
    "ExecuteTime": {
     "end_time": "2020-04-07T10:40:19.816351Z",
     "start_time": "2020-04-07T10:40:17.166579Z"
    }
   },
   "outputs": [],
   "source": [
    "set_lists_expanded_df.to_csv('songs_with_set_title_cleaned.csv',index=False)"
   ]
  },
  {
   "cell_type": "code",
   "execution_count": 134,
   "metadata": {
    "ExecuteTime": {
     "end_time": "2020-04-14T10:57:39.723018Z",
     "start_time": "2020-04-14T10:57:38.543834Z"
    }
   },
   "outputs": [],
   "source": [
    "set_lists_expanded_df=pd.read_csv('songs_with_set_title_cleaned.csv')"
   ]
  },
  {
   "cell_type": "code",
   "execution_count": null,
   "metadata": {},
   "outputs": [],
   "source": []
  },
  {
   "cell_type": "markdown",
   "metadata": {},
   "source": [
    "## Obtaining More Data"
   ]
  },
  {
   "cell_type": "code",
   "execution_count": 4,
   "metadata": {
    "ExecuteTime": {
     "end_time": "2020-04-17T11:53:16.204415Z",
     "start_time": "2020-04-17T11:53:15.262425Z"
    }
   },
   "outputs": [],
   "source": [
    "with open('150k_mixes.pickle','rb') as handle:\n",
    "    more_sets_with_titles =pickle.load(handle)"
   ]
  },
  {
   "cell_type": "code",
   "execution_count": 5,
   "metadata": {
    "ExecuteTime": {
     "end_time": "2020-04-17T11:53:16.243266Z",
     "start_time": "2020-04-17T11:53:16.207271Z"
    }
   },
   "outputs": [],
   "source": [
    "expanded_sets=[]\n",
    "for val in more_sets_with_titles:\n",
    "    expanded_sets.append([tup for tup in val])\n",
    "expanded_sets=[x for sublist in expanded_sets for x in sublist]"
   ]
  },
  {
   "cell_type": "code",
   "execution_count": 6,
   "metadata": {
    "ExecuteTime": {
     "end_time": "2020-04-17T11:53:16.358476Z",
     "start_time": "2020-04-17T11:53:16.249984Z"
    }
   },
   "outputs": [],
   "source": [
    "more_sets_df=pd.DataFrame(expanded_sets)\n",
    "more_sets_df.columns=['set_title','set_list']\n",
    "more_sets_df.set_title.drop_duplicates(inplace=True)"
   ]
  },
  {
   "cell_type": "code",
   "execution_count": 7,
   "metadata": {
    "ExecuteTime": {
     "end_time": "2020-04-17T11:53:28.972067Z",
     "start_time": "2020-04-17T11:53:16.360933Z"
    }
   },
   "outputs": [],
   "source": [
    "more_sets_df=more_sets_df.set_index('set_title').explode('set_list').reset_index()\n",
    "more_sets_df.dropna(inplace=True)\n",
    "#gets rid of timestamps\n",
    "more_sets_df.set_list=more_sets_df.set_list.map(lambda x :re.sub('^(\\[[0-9]*:*[0-9]*])','',x))\n",
    "more_sets_df.set_list=more_sets_df.set_list.map(lambda x :re.sub('(\\[[0-9]*:*[0-9]*])','',x))\n",
    "#replaces songs that are questionmarks with np.NaNs\n",
    "more_sets_df.set_list.replace('^[\\[ ].?\\?',np.NaN,regex=True,inplace=True)\n",
    "more_sets_df.set_list.replace('^\\?',np.NaN,regex=True,inplace=True)"
   ]
  },
  {
   "cell_type": "code",
   "execution_count": 8,
   "metadata": {
    "ExecuteTime": {
     "end_time": "2020-04-17T11:53:41.005782Z",
     "start_time": "2020-04-17T11:53:28.974199Z"
    }
   },
   "outputs": [
    {
     "name": "stderr",
     "output_type": "stream",
     "text": [
      "/Users/danielchow/opt/anaconda3/envs/rec_env/lib/python3.7/site-packages/pandas/core/strings.py:1952: UserWarning: This pattern has match groups. To actually get the groups, use str.extract.\n",
      "  return func(self, *args, **kwargs)\n"
     ]
    }
   ],
   "source": [
    "more_sets_df['year'] = more_sets_df.set_title.map(lambda x:x.split(' - ')[0] if len(x.split(' - '))>1 else x.split('-')[0])\n",
    "more_sets_df.year=more_sets_df.year.map(lambda x:x.split('-')[0])\n",
    "more_sets_df.set_title.replace('([0-9]+[-][0-9]+[-]?[0-9]+)','',regex=True,inplace=True)\n",
    "more_sets_df['set_title_split']=more_sets_df.set_title.map(lambda x: x.split(' - ')[1] if len(x.split(' - '))>1 else x)\n",
    "more_sets_df['set_title_split']=more_sets_df['set_title_split'].map(lambda x:x.split('@')[0])\n",
    "#filter out one set that was labelled wrong and i didnt like the music\n",
    "more_sets_df=more_sets_df[~more_sets_df.set_title_split.str.contains('([0-9][1-9]-)')]"
   ]
  },
  {
   "cell_type": "code",
   "execution_count": 9,
   "metadata": {
    "ExecuteTime": {
     "end_time": "2020-04-17T11:53:41.014378Z",
     "start_time": "2020-04-17T11:53:41.008052Z"
    }
   },
   "outputs": [],
   "source": [
    "#we need to account for b2b sets\n",
    "#going to say that if it was a b2b set then both artists played the song as cannot say for sure who actually did\n",
    "#also can assume both djs like the song because they are playing together\n",
    "def b2b_splitter(x):\n",
    "    if 'b2b' in x:\n",
    "        return x.split('b2b')\n",
    "    if 'B2B' in x:\n",
    "        return x.split('B2B')\n",
    "    if ',' in x:\n",
    "        return x.split(',')\n",
    "    else:\n",
    "        return [x]"
   ]
  },
  {
   "cell_type": "code",
   "execution_count": 10,
   "metadata": {
    "ExecuteTime": {
     "end_time": "2020-04-17T11:53:43.560001Z",
     "start_time": "2020-04-17T11:53:41.018024Z"
    }
   },
   "outputs": [],
   "source": [
    "more_sets_df.set_title_split = more_sets_df.set_title_split.map(b2b_splitter)"
   ]
  },
  {
   "cell_type": "code",
   "execution_count": 11,
   "metadata": {
    "ExecuteTime": {
     "end_time": "2020-04-17T11:53:52.060379Z",
     "start_time": "2020-04-17T11:53:43.565216Z"
    }
   },
   "outputs": [],
   "source": [
    "more_sets_df=more_sets_df.set_index(['set_title','set_list','year']).explode('set_title_split').reset_index()"
   ]
  },
  {
   "cell_type": "code",
   "execution_count": 12,
   "metadata": {
    "ExecuteTime": {
     "end_time": "2020-04-17T11:53:53.133359Z",
     "start_time": "2020-04-17T11:53:52.065160Z"
    }
   },
   "outputs": [],
   "source": [
    "#removing dj sets that had only 1 or 2 songs \n",
    "threshold = 0.00000001\n",
    "\n",
    "counts = more_sets_df['set_title_split'].value_counts(normalize=True)\n",
    "more_sets_df = more_sets_df.loc[more_sets_df['set_title_split'].isin(counts[counts > threshold].index), :]"
   ]
  },
  {
   "cell_type": "code",
   "execution_count": 13,
   "metadata": {
    "ExecuteTime": {
     "end_time": "2020-04-17T11:53:53.462564Z",
     "start_time": "2020-04-17T11:53:53.135571Z"
    }
   },
   "outputs": [],
   "source": [
    "#get rid of various artists\n",
    "more_sets_df=more_sets_df[more_sets_df.set_title_split != 'VA']"
   ]
  },
  {
   "cell_type": "code",
   "execution_count": 14,
   "metadata": {
    "ExecuteTime": {
     "end_time": "2020-04-17T11:53:53.474727Z",
     "start_time": "2020-04-17T11:53:53.464896Z"
    }
   },
   "outputs": [
    {
     "data": {
      "text/plain": [
       "(2783953, 4)"
      ]
     },
     "execution_count": 14,
     "metadata": {},
     "output_type": "execute_result"
    }
   ],
   "source": [
    "more_sets_df.shape"
   ]
  },
  {
   "cell_type": "code",
   "execution_count": 15,
   "metadata": {
    "ExecuteTime": {
     "end_time": "2020-04-17T11:53:54.108087Z",
     "start_time": "2020-04-17T11:53:53.477616Z"
    }
   },
   "outputs": [],
   "source": [
    "more_sets_df.dropna(inplace=True)"
   ]
  },
  {
   "cell_type": "code",
   "execution_count": 16,
   "metadata": {
    "ExecuteTime": {
     "end_time": "2020-04-17T11:53:54.116726Z",
     "start_time": "2020-04-17T11:53:54.110280Z"
    }
   },
   "outputs": [
    {
     "data": {
      "text/plain": [
       "(2632472, 4)"
      ]
     },
     "execution_count": 16,
     "metadata": {},
     "output_type": "execute_result"
    }
   ],
   "source": [
    "more_sets_df.shape"
   ]
  },
  {
   "cell_type": "code",
   "execution_count": 17,
   "metadata": {
    "ExecuteTime": {
     "end_time": "2020-04-17T11:53:54.127434Z",
     "start_time": "2020-04-17T11:53:54.120291Z"
    }
   },
   "outputs": [],
   "source": [
    "def split_song(x):\n",
    "    try:\n",
    "        y=x.split(' - ')\n",
    "        return y[1]\n",
    "    except:\n",
    "        #loads of ways that the songs are recorded and how missing songs are recorded too\n",
    "        if '...' in x:\n",
    "            return np.NaN\n",
    "        if x =='X':\n",
    "            return np.NaN\n",
    "        if '?' in x:\n",
    "            return np.NaN\n",
    "        if 'Intro' in x:\n",
    "            return np.NaN\n",
    "        if '•' in x:\n",
    "            return x.split('•')[1]\n",
    "        #no space\n",
    "        if '-' in x:\n",
    "            return x.split('-')[1]\n",
    "        \n",
    "        \n",
    "        return x"
   ]
  },
  {
   "cell_type": "code",
   "execution_count": 18,
   "metadata": {
    "ExecuteTime": {
     "end_time": "2020-04-17T11:53:54.135955Z",
     "start_time": "2020-04-17T11:53:54.129762Z"
    }
   },
   "outputs": [],
   "source": [
    "def split_artist(x):\n",
    "    try:\n",
    "        y=x.split(' - ')\n",
    "        return y[0]\n",
    "    except:\n",
    "        #loads of ways that the songs are recorded and how missing songs are recorded too\n",
    "        if '...' in x:\n",
    "            return np.NaN\n",
    "        if x =='X':\n",
    "            return np.NaN\n",
    "        if '?' in x:\n",
    "            return np.NaN\n",
    "        if 'Intro' in x:\n",
    "            return np.NaN\n",
    "        if '•' in x:\n",
    "            return x.split('•')[0]\n",
    "        #no space\n",
    "        if '-' in x:\n",
    "            return x.split('-')[0]\n",
    "        \n",
    "        \n",
    "        return x"
   ]
  },
  {
   "cell_type": "code",
   "execution_count": 19,
   "metadata": {
    "ExecuteTime": {
     "end_time": "2020-04-17T11:53:56.580546Z",
     "start_time": "2020-04-17T11:53:54.138819Z"
    }
   },
   "outputs": [],
   "source": [
    "more_sets_df['artist']=more_sets_df.set_list.map(split_artist)\n",
    "more_sets_df['song']=more_sets_df.set_list.map(split_song)"
   ]
  },
  {
   "cell_type": "code",
   "execution_count": 20,
   "metadata": {
    "ExecuteTime": {
     "end_time": "2020-04-17T11:53:58.621478Z",
     "start_time": "2020-04-17T11:53:56.582830Z"
    }
   },
   "outputs": [],
   "source": [
    "filter_names_list= ['ID','?','Unknown','Unreleased','Intro','Untitled [Unreleased]','Untitled','Promo','? [Unreleased]','Outro']\n",
    "more_sets_df=more_sets_df[~more_sets_df.song.isin(filter_names_list)]\n",
    "more_sets_df.artist=more_sets_df.artist.replace('N/A',np.NaN)\n",
    "more_sets_df.dropna(inplace=True)"
   ]
  },
  {
   "cell_type": "code",
   "execution_count": 22,
   "metadata": {
    "ExecuteTime": {
     "end_time": "2020-04-17T11:54:01.115888Z",
     "start_time": "2020-04-17T11:53:58.641088Z"
    }
   },
   "outputs": [],
   "source": [
    "spotify_data_for_more_sets=pd.read_csv('mixes_db_tracks_with_spotify_copy.csv')"
   ]
  },
  {
   "cell_type": "code",
   "execution_count": 23,
   "metadata": {
    "ExecuteTime": {
     "end_time": "2020-04-17T11:54:01.558831Z",
     "start_time": "2020-04-17T11:54:01.117905Z"
    }
   },
   "outputs": [],
   "source": [
    "spotify_data_for_more_sets.dropna(inplace=True)"
   ]
  },
  {
   "cell_type": "code",
   "execution_count": 24,
   "metadata": {
    "ExecuteTime": {
     "end_time": "2020-04-17T11:54:01.667859Z",
     "start_time": "2020-04-17T11:54:01.561210Z"
    }
   },
   "outputs": [
    {
     "data": {
      "text/html": [
       "<div>\n",
       "<style scoped>\n",
       "    .dataframe tbody tr th:only-of-type {\n",
       "        vertical-align: middle;\n",
       "    }\n",
       "\n",
       "    .dataframe tbody tr th {\n",
       "        vertical-align: top;\n",
       "    }\n",
       "\n",
       "    .dataframe thead th {\n",
       "        text-align: right;\n",
       "    }\n",
       "</style>\n",
       "<table border=\"1\" class=\"dataframe\">\n",
       "  <thead>\n",
       "    <tr style=\"text-align: right;\">\n",
       "      <th></th>\n",
       "      <th>set_title</th>\n",
       "      <th>set_list</th>\n",
       "      <th>year</th>\n",
       "      <th>set_title_split</th>\n",
       "      <th>artist</th>\n",
       "      <th>song</th>\n",
       "    </tr>\n",
       "  </thead>\n",
       "  <tbody>\n",
       "    <tr>\n",
       "      <th>1961713</th>\n",
       "      <td>- Ian Pooley - May Promo Mix (OFF Recordings ...</td>\n",
       "      <td>Robert Owens - Bring Down The Walls (Leo Zero ...</td>\n",
       "      <td>2011</td>\n",
       "      <td>Ian Pooley</td>\n",
       "      <td>Robert Owens</td>\n",
       "      <td>Bring Down The Walls (Leo Zero Edit)</td>\n",
       "    </tr>\n",
       "    <tr>\n",
       "      <th>2049097</th>\n",
       "      <td>- Paul Oakenfold, Kenneth Thomas - Planet Per...</td>\n",
       "      <td>Robert Vadney - Fallen Angel's Symphony (Paul ...</td>\n",
       "      <td>2011</td>\n",
       "      <td>Paul Oakenfold</td>\n",
       "      <td>Robert Vadney</td>\n",
       "      <td>Fallen Angel's Symphony (Paul Oakenfold Remix)...</td>\n",
       "    </tr>\n",
       "    <tr>\n",
       "      <th>1408895</th>\n",
       "      <td>- Oneman - Rinse FM</td>\n",
       "      <td>Mondie - Straight (NAPPER VOCAL)</td>\n",
       "      <td>2012</td>\n",
       "      <td>Oneman</td>\n",
       "      <td>Mondie</td>\n",
       "      <td>Straight (NAPPER VOCAL)</td>\n",
       "    </tr>\n",
       "    <tr>\n",
       "      <th>2201873</th>\n",
       "      <td>- Laidback Luke - Super You &amp; Me Radio, Club FG</td>\n",
       "      <td>Green Velvet - Harmageddon (The Battle)</td>\n",
       "      <td>2010</td>\n",
       "      <td>Laidback Luke</td>\n",
       "      <td>Green Velvet</td>\n",
       "      <td>Harmageddon (The Battle)</td>\n",
       "    </tr>\n",
       "    <tr>\n",
       "      <th>1820976</th>\n",
       "      <td>- MistaJam, DJ Cameo - Saturday Night Soundcl...</td>\n",
       "      <td>The Others - Africa VIP [Dub Police]</td>\n",
       "      <td>2011</td>\n",
       "      <td>DJ Cameo</td>\n",
       "      <td>The Others</td>\n",
       "      <td>Africa VIP [Dub Police]</td>\n",
       "    </tr>\n",
       "    <tr>\n",
       "      <th>466510</th>\n",
       "      <td>- Solvynt - Lucky Lotus Online Electronic Mus...</td>\n",
       "      <td>Penguin Conspiracy - Tripswitch [Electrode]</td>\n",
       "      <td>2015</td>\n",
       "      <td>Solvynt</td>\n",
       "      <td>Penguin Conspiracy</td>\n",
       "      <td>Tripswitch [Electrode]</td>\n",
       "    </tr>\n",
       "    <tr>\n",
       "      <th>621981</th>\n",
       "      <td>- Dreadmaul - Boundless Beatz Podcast 09</td>\n",
       "      <td>Dom &amp; Roland &amp; Amon Tobin - Sylo [Dom &amp; Roland]</td>\n",
       "      <td>2015</td>\n",
       "      <td>Dreadmaul</td>\n",
       "      <td>Dom &amp; Roland &amp; Amon Tobin</td>\n",
       "      <td>Sylo [Dom &amp; Roland]</td>\n",
       "    </tr>\n",
       "    <tr>\n",
       "      <th>1473936</th>\n",
       "      <td>- Friction, Audio - Drum'N'Bass Show</td>\n",
       "      <td>Tantrum Desire Feat. I-Kay - What Is Your Desi...</td>\n",
       "      <td>2012</td>\n",
       "      <td>Friction</td>\n",
       "      <td>Tantrum Desire Feat. I-Kay</td>\n",
       "      <td>What Is Your Desire (Dance Floor Pressure Mix)...</td>\n",
       "    </tr>\n",
       "    <tr>\n",
       "      <th>1190218</th>\n",
       "      <td>- Deep Space House - Deep Space House Show 055</td>\n",
       "      <td>[1:10:20] Tvardovsky - Jailbrake [Stereo Parad...</td>\n",
       "      <td>2013</td>\n",
       "      <td>Deep Space House</td>\n",
       "      <td>[1:10:20] Tvardovsky</td>\n",
       "      <td>Jailbrake [Stereo Paradise]</td>\n",
       "    </tr>\n",
       "    <tr>\n",
       "      <th>1332471</th>\n",
       "      <td>- DK, Hidden Orchestra, Teenage DJ - Solid Steel</td>\n",
       "      <td>Hidden Orchestra - Spoken [Tru Thoughts]</td>\n",
       "      <td>2013</td>\n",
       "      <td>DK</td>\n",
       "      <td>Hidden Orchestra</td>\n",
       "      <td>Spoken [Tru Thoughts]</td>\n",
       "    </tr>\n",
       "  </tbody>\n",
       "</table>\n",
       "</div>"
      ],
      "text/plain": [
       "                                                 set_title  \\\n",
       "1961713   - Ian Pooley - May Promo Mix (OFF Recordings ...   \n",
       "2049097   - Paul Oakenfold, Kenneth Thomas - Planet Per...   \n",
       "1408895                                - Oneman - Rinse FM   \n",
       "2201873    - Laidback Luke - Super You & Me Radio, Club FG   \n",
       "1820976   - MistaJam, DJ Cameo - Saturday Night Soundcl...   \n",
       "466510    - Solvynt - Lucky Lotus Online Electronic Mus...   \n",
       "621981            - Dreadmaul - Boundless Beatz Podcast 09   \n",
       "1473936               - Friction, Audio - Drum'N'Bass Show   \n",
       "1190218     - Deep Space House - Deep Space House Show 055   \n",
       "1332471   - DK, Hidden Orchestra, Teenage DJ - Solid Steel   \n",
       "\n",
       "                                                  set_list  year  \\\n",
       "1961713  Robert Owens - Bring Down The Walls (Leo Zero ...  2011   \n",
       "2049097  Robert Vadney - Fallen Angel's Symphony (Paul ...  2011   \n",
       "1408895                   Mondie - Straight (NAPPER VOCAL)  2012   \n",
       "2201873            Green Velvet - Harmageddon (The Battle)  2010   \n",
       "1820976               The Others - Africa VIP [Dub Police]  2011   \n",
       "466510         Penguin Conspiracy - Tripswitch [Electrode]  2015   \n",
       "621981     Dom & Roland & Amon Tobin - Sylo [Dom & Roland]  2015   \n",
       "1473936  Tantrum Desire Feat. I-Kay - What Is Your Desi...  2012   \n",
       "1190218  [1:10:20] Tvardovsky - Jailbrake [Stereo Parad...  2013   \n",
       "1332471           Hidden Orchestra - Spoken [Tru Thoughts]  2013   \n",
       "\n",
       "          set_title_split                      artist  \\\n",
       "1961713        Ian Pooley                Robert Owens   \n",
       "2049097    Paul Oakenfold               Robert Vadney   \n",
       "1408895            Oneman                      Mondie   \n",
       "2201873     Laidback Luke                Green Velvet   \n",
       "1820976          DJ Cameo                  The Others   \n",
       "466510            Solvynt          Penguin Conspiracy   \n",
       "621981          Dreadmaul   Dom & Roland & Amon Tobin   \n",
       "1473936          Friction  Tantrum Desire Feat. I-Kay   \n",
       "1190218  Deep Space House        [1:10:20] Tvardovsky   \n",
       "1332471                DK            Hidden Orchestra   \n",
       "\n",
       "                                                      song  \n",
       "1961713               Bring Down The Walls (Leo Zero Edit)  \n",
       "2049097  Fallen Angel's Symphony (Paul Oakenfold Remix)...  \n",
       "1408895                            Straight (NAPPER VOCAL)  \n",
       "2201873                           Harmageddon (The Battle)  \n",
       "1820976                            Africa VIP [Dub Police]  \n",
       "466510                              Tripswitch [Electrode]  \n",
       "621981                                 Sylo [Dom & Roland]  \n",
       "1473936  What Is Your Desire (Dance Floor Pressure Mix)...  \n",
       "1190218                        Jailbrake [Stereo Paradise]  \n",
       "1332471                              Spoken [Tru Thoughts]  "
      ]
     },
     "execution_count": 24,
     "metadata": {},
     "output_type": "execute_result"
    }
   ],
   "source": [
    "more_sets_df.sample(10)"
   ]
  },
  {
   "cell_type": "code",
   "execution_count": 25,
   "metadata": {
    "ExecuteTime": {
     "end_time": "2020-04-17T11:54:04.761532Z",
     "start_time": "2020-04-17T11:54:01.669909Z"
    }
   },
   "outputs": [],
   "source": [
    "#only want songs with spotify ids\n",
    "more_sets_df_with_spotify=pd.merge(more_sets_df,spotify_data_for_more_sets,how='outer',left_on=['artist','song'],right_on=['artist','songs'])"
   ]
  },
  {
   "cell_type": "code",
   "execution_count": 26,
   "metadata": {
    "ExecuteTime": {
     "end_time": "2020-04-17T11:54:08.496114Z",
     "start_time": "2020-04-17T11:54:04.767591Z"
    }
   },
   "outputs": [],
   "source": [
    "#filling those without spotify info with blank\n",
    "more_sets_df_with_spotify.fillna('-',inplace=True)"
   ]
  },
  {
   "cell_type": "code",
   "execution_count": 27,
   "metadata": {
    "ExecuteTime": {
     "end_time": "2020-04-17T11:54:11.687050Z",
     "start_time": "2020-04-17T11:54:08.498848Z"
    }
   },
   "outputs": [],
   "source": [
    "more_sets_df_with_spotify.set_title_split=more_sets_df_with_spotify.set_title_split.str.lstrip().str.rstrip()"
   ]
  },
  {
   "cell_type": "code",
   "execution_count": 53,
   "metadata": {
    "ExecuteTime": {
     "end_time": "2020-04-17T12:02:50.523239Z",
     "start_time": "2020-04-17T12:02:50.516839Z"
    }
   },
   "outputs": [],
   "source": [
    "more_sets_df_with_spotify.columns =['set_title','song_name_mixesdb','year','DJ','song_artist','song_name','spotify_song_name','spotify_id','preview','songs']"
   ]
  },
  {
   "cell_type": "code",
   "execution_count": 54,
   "metadata": {
    "ExecuteTime": {
     "end_time": "2020-04-17T12:03:20.333989Z",
     "start_time": "2020-04-17T12:02:51.136381Z"
    }
   },
   "outputs": [],
   "source": [
    "more_sets_df_with_spotify.to_csv('more_data_clean_with_spotify.csv',index=False)"
   ]
  },
  {
   "cell_type": "markdown",
   "metadata": {},
   "source": [
    "## Syncing up songs with spotify"
   ]
  },
  {
   "cell_type": "code",
   "execution_count": null,
   "metadata": {
    "ExecuteTime": {
     "end_time": "2020-04-07T11:12:40.078125Z",
     "start_time": "2020-04-07T11:12:40.071619Z"
    }
   },
   "outputs": [],
   "source": [
    "def refresh():\n",
    "    '''when spotify token times out this refreshes it'''\n",
    "    global token_info, sp\n",
    "\n",
    "    if sp_oauth.is_token_expired(token_info):\n",
    "        token_info = sp_oauth.refresh_access_token(token_info['refresh_token'])\n",
    "        token = token_info['access_token']\n",
    "        sp = spotipy.Spotify(auth=token)"
   ]
  },
  {
   "cell_type": "code",
   "execution_count": null,
   "metadata": {
    "ExecuteTime": {
     "end_time": "2020-04-07T11:12:40.365356Z",
     "start_time": "2020-04-07T11:12:40.353656Z"
    }
   },
   "outputs": [],
   "source": [
    "#setting up credentials for accessing spotify\n",
    "redirect_uri='https://www.google.com/'\n",
    "scopes ='user-follow-modify'\n",
    "client_id= config.client_id\n",
    "client_secret =config.client_secret\n",
    "username = '1143043561'\n",
    "\n",
    "sp_oauth = oauth2.SpotifyOAuth(client_id=client_id,client_secret=client_secret,redirect_uri=redirect_uri,scope=scopes,username=username)\n",
    "token_info = sp_oauth.get_cached_token() \n",
    "\n",
    "if not token_info:\n",
    "    auth_url = sp_oauth.get_authorize_url()\n",
    "    print(auth_url)\n",
    "    response = input('Paste the above link into your browser, then paste the redirect url here: ')\n",
    "\n",
    "    code = sp_oauth.parse_response_code(response)\n",
    "    token_info = sp_oauth.get_access_token(code)\n",
    "\n",
    "    token = token_info['access_token']\n",
    "else:\n",
    "    token = token_info['access_token']\n",
    "sp = spotipy.Spotify(auth=token)"
   ]
  },
  {
   "cell_type": "code",
   "execution_count": null,
   "metadata": {
    "ExecuteTime": {
     "end_time": "2020-04-07T11:12:40.952046Z",
     "start_time": "2020-04-07T11:12:40.934766Z"
    }
   },
   "outputs": [],
   "source": [
    "artists =set_lists_expanded_df.song_artist.tolist()\n",
    "tracks =set_lists_expanded_df.song_name.tolist()"
   ]
  },
  {
   "cell_type": "code",
   "execution_count": null,
   "metadata": {
    "ExecuteTime": {
     "end_time": "2020-04-08T08:47:23.363300Z",
     "start_time": "2020-04-07T11:12:41.812514Z"
    }
   },
   "outputs": [],
   "source": [
    "print(len(artists),len(tracks))\n",
    "\n",
    "\n",
    "\n",
    "spotify_song_names=[]\n",
    "spotify_ids=[]\n",
    "spotify_previews=[]\n",
    "not_found_count =0\n",
    "for ind, tup in tqdm_notebook(enumerate(zip(artists,tracks))):\n",
    "    \n",
    "    \n",
    "    if ind%1500==0:\n",
    "        print(ind)\n",
    "\n",
    "    try:\n",
    "        track_id = sp.search(q='artist:' + tup[0] + ' track:' + tup[1], type='track')\n",
    "        if not track_id:\n",
    "            if '[' in tup[1]:\n",
    "                #accounting for the weird entries of songs and artists where they will be the same\n",
    "                song_short = tup[1].split('[')[0]\n",
    "                track_id = sp.search(q='artist:' + tup[0] + ' track:' + song_short, type='track')\n",
    "                \n",
    "        if not track_id:\n",
    "            #same as above\n",
    "            if tup[0]==tup[1]:\n",
    "                track_id =sp.search(q=tup[0],type='track')\n",
    "    except:\n",
    "        refresh()\n",
    "        track_id = sp.search(q='artist:' + tup[0] + ' track:' + tup[1], type='track')\n",
    "\n",
    "        \n",
    "    try:\n",
    "    #some tracks cant be found with the search\n",
    "        if track_id['tracks']['items'][0]['id']:\n",
    "            spotify_ids.append(track_id['tracks']['items'][0]['id'])\n",
    "        else:\n",
    "            spotify_ids.append(np.NaN)\n",
    "\n",
    "        if track_id['tracks']['items'][0]['preview_url']:\n",
    "            spotify_previews.append(track_id['tracks']['items'][0]['preview_url'])\n",
    "        else:\n",
    "            spotify_previews.append(np.NaN)\n",
    "\n",
    "        if track_id['tracks']['items'][0]['name']:\n",
    "            spotify_song_names.append(track_id['tracks']['items'][0]['name'])\n",
    "        else:\n",
    "            spotify_song_names.append(np.NaN)\n",
    "\n",
    "\n",
    "    except:\n",
    "        spotify_song_names.append(np.NaN)\n",
    "        spotify_ids.append(np.NaN)\n",
    "        spotify_previews.append(np.NaN)\n",
    "        not_found_count +=1\n",
    "print('num songs not found :',not_found_count)"
   ]
  },
  {
   "cell_type": "code",
   "execution_count": null,
   "metadata": {
    "ExecuteTime": {
     "end_time": "2020-04-08T08:53:27.870055Z",
     "start_time": "2020-04-08T08:53:00.894826Z"
    }
   },
   "outputs": [],
   "source": [
    "#create a df out of the songs with spotify info\n",
    "limited_df =pd.DataFrame([spotify_song_names,spotify_ids,spotify_previews]).T"
   ]
  },
  {
   "cell_type": "code",
   "execution_count": null,
   "metadata": {
    "ExecuteTime": {
     "end_time": "2020-04-08T08:57:01.028835Z",
     "start_time": "2020-04-08T08:57:00.959990Z"
    }
   },
   "outputs": [],
   "source": [
    "limited_df.columns=['spotify_song_name','spotify_id','preview']\n",
    "limited_df['artist']=artists\n",
    "limited_df['songs']=tracks"
   ]
  },
  {
   "cell_type": "code",
   "execution_count": null,
   "metadata": {
    "ExecuteTime": {
     "end_time": "2020-04-08T08:57:55.648306Z",
     "start_time": "2020-04-08T08:57:55.567846Z"
    }
   },
   "outputs": [],
   "source": [
    "limited_df.dropna(subset=['spotify_id'],inplace=True)\n",
    "limited_df.drop_duplicates(inplace=True)"
   ]
  },
  {
   "cell_type": "code",
   "execution_count": null,
   "metadata": {
    "ExecuteTime": {
     "end_time": "2020-04-08T09:23:22.223351Z",
     "start_time": "2020-04-08T09:23:21.455662Z"
    }
   },
   "outputs": [],
   "source": [
    "limited_df.to_csv('mixes_db_tracks_with_spotify.csv',index=False)"
   ]
  },
  {
   "cell_type": "markdown",
   "metadata": {},
   "source": [
    "## Preparing dataset for reccomendations"
   ]
  },
  {
   "cell_type": "code",
   "execution_count": 55,
   "metadata": {
    "ExecuteTime": {
     "end_time": "2020-04-17T12:03:50.725958Z",
     "start_time": "2020-04-17T12:03:49.137245Z"
    }
   },
   "outputs": [],
   "source": [
    "set_lists_expanded_df=pd.read_csv('songs_with_set_title_cleaned.csv')\n",
    "spotify_song_info= pd.read_csv('mixes_db_tracks_with_spotify.csv')"
   ]
  },
  {
   "cell_type": "code",
   "execution_count": 56,
   "metadata": {
    "ExecuteTime": {
     "end_time": "2020-04-17T12:03:50.735382Z",
     "start_time": "2020-04-17T12:03:50.729177Z"
    }
   },
   "outputs": [],
   "source": [
    "set_lists_expanded_df.columns=['set_title','song_name_mixesdb','DJ','song_artist','song_name']"
   ]
  },
  {
   "cell_type": "code",
   "execution_count": 57,
   "metadata": {
    "ExecuteTime": {
     "end_time": "2020-04-17T12:03:51.473918Z",
     "start_time": "2020-04-17T12:03:50.740091Z"
    }
   },
   "outputs": [],
   "source": [
    "#kept all values as lists so i can explode\n",
    "#same process as above in splitting apart b2b sets\n",
    "set_lists_expanded_df.DJ=set_lists_expanded_df.DJ.map(b2b_splitter)"
   ]
  },
  {
   "cell_type": "code",
   "execution_count": 58,
   "metadata": {
    "ExecuteTime": {
     "end_time": "2020-04-17T12:03:55.429665Z",
     "start_time": "2020-04-17T12:03:51.476537Z"
    }
   },
   "outputs": [],
   "source": [
    "cols=set_lists_expanded_df.columns.tolist()\n",
    "cols.remove('DJ')\n",
    "set_lists_expanded_df=set_lists_expanded_df.set_index(keys=cols).explode('DJ').reset_index()\n",
    "set_lists_expanded_df['year']=set_lists_expanded_df.set_title.map(lambda x:x.split(' - ')[0] if len(x.split(' - '))>1 else x.split('-')[0])"
   ]
  },
  {
   "cell_type": "code",
   "execution_count": 67,
   "metadata": {
    "ExecuteTime": {
     "end_time": "2020-04-17T12:06:02.576715Z",
     "start_time": "2020-04-17T12:05:46.262202Z"
    }
   },
   "outputs": [],
   "source": [
    "sets_with_spotify_part_1= pd.merge(set_lists_expanded_df,spotify_song_info,how='right',left_on=['song_artist','song_name'],right_on=['artist','songs'])\n",
    "#fill those without spotify info with blanks\n",
    "sets_with_spotify_part_1.fillna('-',inplace=True)\n",
    "#load in the second part of the spotify data made above\n",
    "sets_with_spotify_part_2= pd.read_csv('more_data_clean_with_spotify.csv')\n",
    "#make sure columns in same order\n",
    "sets_with_spotify_part_1[sets_with_spotify_part_2.columns.tolist()]\n",
    "full_sets_with_spotify=pd.concat([sets_with_spotify_part_1,sets_with_spotify_part_2])\n",
    "full_sets_with_spotify.drop_duplicates(subset=['set_title','song_name_mixesdb','DJ'],inplace=True)\n",
    "full_sets_with_spotify.drop(columns=['artist'],inplace=True)"
   ]
  },
  {
   "cell_type": "code",
   "execution_count": 71,
   "metadata": {
    "ExecuteTime": {
     "end_time": "2020-04-17T12:07:50.244937Z",
     "start_time": "2020-04-17T12:07:37.346544Z"
    }
   },
   "outputs": [],
   "source": [
    "#numbering the songs,users, and amount of plays so we can make a sparse matrix out of them\n",
    "full_sets_with_spotify['user_nums'] = full_sets_with_spotify.groupby('DJ').ngroup().values\n",
    "full_sets_with_spotify['song_nums'] = full_sets_with_spotify.groupby('song_name_mixesdb').ngroup().values\n",
    "count_series = full_sets_with_spotify.groupby(['DJ', 'song_name_mixesdb']).size()\n",
    "plays_df = count_series.to_frame(name = 'plays').reset_index()\n",
    "full_sets_with_spotify=pd.merge(full_sets_with_spotify,plays_df,on=['DJ','song_name_mixesdb'],how='left')"
   ]
  },
  {
   "cell_type": "code",
   "execution_count": 72,
   "metadata": {
    "ExecuteTime": {
     "end_time": "2020-04-17T12:07:53.505148Z",
     "start_time": "2020-04-17T12:07:52.135225Z"
    }
   },
   "outputs": [],
   "source": [
    "full_sets_with_spotify.dropna(inplace=True)"
   ]
  },
  {
   "cell_type": "code",
   "execution_count": 73,
   "metadata": {
    "ExecuteTime": {
     "end_time": "2020-04-17T12:07:53.923672Z",
     "start_time": "2020-04-17T12:07:53.916213Z"
    }
   },
   "outputs": [
    {
     "data": {
      "text/plain": [
       "(2713104, 13)"
      ]
     },
     "execution_count": 73,
     "metadata": {},
     "output_type": "execute_result"
    }
   ],
   "source": [
    "full_sets_with_spotify.shape"
   ]
  },
  {
   "cell_type": "code",
   "execution_count": 75,
   "metadata": {
    "ExecuteTime": {
     "end_time": "2020-04-17T12:08:04.420416Z",
     "start_time": "2020-04-17T12:08:04.176734Z"
    }
   },
   "outputs": [
    {
     "name": "stdout",
     "output_type": "stream",
     "text": [
      "matrix sparsity - 98.98243301\n"
     ]
    }
   ],
   "source": [
    "#we need to make sure the sparse matrix is not too sparse otherwise this will not work that well\n",
    "#max sparsity around 98.5%\n",
    "\n",
    "plays= full_sets_with_spotify['plays'].values\n",
    "users=full_sets_with_spotify.user_nums.values\n",
    "songs=full_sets_with_spotify.song_nums.values\n",
    "Matrix_us=coo_matrix((plays, (songs, users))).tocsr()\n",
    "\n",
    "# Number of possible DJ song interactions\n",
    "matrix_size = Matrix_us.shape[0]*Matrix_us.shape[1] \n",
    "# Number of songs\n",
    "num_songs = len(Matrix_us.nonzero()[0]) \n",
    "sparsity = 100*(1 - (num_songs/matrix_size))\n",
    "print('matrix sparsity -',sparsity)"
   ]
  },
  {
   "cell_type": "code",
   "execution_count": 76,
   "metadata": {
    "ExecuteTime": {
     "end_time": "2020-04-17T12:08:59.545059Z",
     "start_time": "2020-04-17T12:08:39.596238Z"
    }
   },
   "outputs": [],
   "source": [
    "full_sets_with_spotify.to_csv('mixesdb_df_for_recs.csv',index=False)"
   ]
  },
  {
   "cell_type": "code",
   "execution_count": null,
   "metadata": {},
   "outputs": [],
   "source": []
  }
 ],
 "metadata": {
  "kernelspec": {
   "display_name": "rec_env",
   "language": "python",
   "name": "rec_env"
  },
  "toc": {
   "base_numbering": 1,
   "nav_menu": {},
   "number_sections": true,
   "sideBar": true,
   "skip_h1_title": false,
   "title_cell": "Table of Contents",
   "title_sidebar": "Contents",
   "toc_cell": false,
   "toc_position": {},
   "toc_section_display": true,
   "toc_window_display": false
  }
 },
 "nbformat": 4,
 "nbformat_minor": 2
}
