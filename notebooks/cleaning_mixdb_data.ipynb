{
 "cells": [
  {
   "cell_type": "code",
   "execution_count": 1,
   "metadata": {
    "ExecuteTime": {
     "end_time": "2020-04-08T13:07:58.324644Z",
     "start_time": "2020-04-08T13:07:56.201423Z"
    }
   },
   "outputs": [],
   "source": [
    "#import requests\n",
    "#import bs4\n",
    "#from bs4 import BeautifulSoup\n",
    "\n",
    "import pandas as pd\n",
    "import numpy as np\n",
    "import config\n",
    "from tqdm import tqdm_notebook\n",
    "import tqdm\n",
    "#from selenium.common.exceptions import NoSuchElementException, ElementClickInterceptedException\n",
    "#from selenium import webdriver\n",
    "import time\n",
    "import pickle\n",
    "import re\n",
    "import spotipy\n",
    "from spotipy.oauth2 import SpotifyClientCredentials\n",
    "from spotipy import oauth2\n",
    "import spotipy.util as util"
   ]
  },
  {
   "cell_type": "markdown",
   "metadata": {},
   "source": [
    "## Cleaning Data"
   ]
  },
  {
   "cell_type": "code",
   "execution_count": null,
   "metadata": {},
   "outputs": [],
   "source": [
    "with open('17375_mixes.pickle', 'rb') as handle:\n",
    "    set_list_with_titles = pickle.load(handle)"
   ]
  },
  {
   "cell_type": "code",
   "execution_count": null,
   "metadata": {
    "ExecuteTime": {
     "end_time": "2020-04-06T19:08:39.466355Z",
     "start_time": "2020-04-06T19:08:39.445565Z"
    }
   },
   "outputs": [],
   "source": [
    "expanded_set_lists=[]\n",
    "for val in set_list_with_titles:\n",
    "    expanded_set_lists.append([tup for tup in val])\n",
    "expanded_set_lists=[x for sublist in expanded_set_lists for x in sublist]"
   ]
  },
  {
   "cell_type": "code",
   "execution_count": null,
   "metadata": {
    "ExecuteTime": {
     "end_time": "2020-04-06T19:16:21.972769Z",
     "start_time": "2020-04-06T19:16:21.948468Z"
    }
   },
   "outputs": [],
   "source": [
    "set_lists_df=pd.DataFrame(expanded_set_lists)\n",
    "set_lists_df.columns=['set_title','set_list']\n",
    "set_lists_df.set_title.drop_duplicates(inplace=True)"
   ]
  },
  {
   "cell_type": "code",
   "execution_count": null,
   "metadata": {
    "ExecuteTime": {
     "end_time": "2020-04-07T09:56:11.345456Z",
     "start_time": "2020-04-07T09:56:09.821448Z"
    }
   },
   "outputs": [],
   "source": [
    "set_lists_expanded_df=set_lists_df.set_index('set_title').explode('set_list').reset_index()\n",
    "set_lists_expanded_df.dropna(inplace=True)\n",
    "#gets rid of timestamps\n",
    "set_lists_expanded_df.set_list=set_lists_expanded_df.set_list.map(lambda x :re.sub('^(\\[[0-9]*:*[0-9]*])','',x))\n",
    "set_lists_expanded_df.set_list=set_lists_expanded_df.set_list.map(lambda x :re.sub('(\\[[0-9]*:*[0-9]*])','',x))\n",
    "#replaces songs that are questionmarks with np.NaNs\n",
    "set_lists_expanded_df.set_list.replace('^[\\[ ].?\\?',np.NaN,regex=True,inplace=True)\n",
    "set_lists_expanded_df.set_list.replace('^\\?',np.NaN,regex=True,inplace=True)"
   ]
  },
  {
   "cell_type": "code",
   "execution_count": null,
   "metadata": {
    "ExecuteTime": {
     "end_time": "2020-04-07T09:56:14.699631Z",
     "start_time": "2020-04-07T09:56:13.018659Z"
    }
   },
   "outputs": [],
   "source": [
    "set_lists_expanded_df.set_title.replace('([0-9]+[-][0-9]+[-]?[0-9]+)','',regex=True,inplace=True)\n",
    "set_lists_expanded_df['set_title_split']=set_lists_expanded_df.set_title.map(lambda x: x.split(' - ')[1] if len(x.split(' - '))>1 else x.split('-')[1])\n",
    "set_lists_expanded_df['set_title_split']=set_lists_expanded_df['set_title_split'].map(lambda x:x.split('@')[0])"
   ]
  },
  {
   "cell_type": "code",
   "execution_count": null,
   "metadata": {
    "ExecuteTime": {
     "end_time": "2020-04-07T09:56:14.920680Z",
     "start_time": "2020-04-07T09:56:14.701740Z"
    }
   },
   "outputs": [],
   "source": [
    "set_lists_expanded_df.isna().sum()"
   ]
  },
  {
   "cell_type": "markdown",
   "metadata": {},
   "source": [
    "The biggest question in cleaning the data is should we consider sets with multiple artists as an individual entity? Otherwise we would have to attribute every song to every DJ on the mix."
   ]
  },
  {
   "cell_type": "code",
   "execution_count": null,
   "metadata": {
    "ExecuteTime": {
     "end_time": "2020-04-07T09:56:14.936122Z",
     "start_time": "2020-04-07T09:56:14.925250Z"
    }
   },
   "outputs": [],
   "source": [
    "set_lists_expanded_df.head()"
   ]
  },
  {
   "cell_type": "code",
   "execution_count": null,
   "metadata": {
    "ExecuteTime": {
     "end_time": "2020-04-07T09:56:14.999703Z",
     "start_time": "2020-04-07T09:56:14.939959Z"
    }
   },
   "outputs": [],
   "source": [
    "set_lists_expanded_df=set_lists_expanded_df[set_lists_expanded_df.set_title_split != 'VA']"
   ]
  },
  {
   "cell_type": "code",
   "execution_count": null,
   "metadata": {
    "ExecuteTime": {
     "end_time": "2020-04-07T09:56:16.228140Z",
     "start_time": "2020-04-07T09:56:15.003776Z"
    }
   },
   "outputs": [],
   "source": [
    "#removing dj sets that had only 1 or 2 songs \n",
    "threshold = 0.000001\n",
    "for col in set_lists_expanded_df.columns:\n",
    "    counts = set_lists_expanded_df[col].value_counts(normalize=True)\n",
    "    set_lists_expanded_df = set_lists_expanded_df.loc[set_lists_expanded_df[col].isin(counts[counts > threshold].index), :]"
   ]
  },
  {
   "cell_type": "code",
   "execution_count": null,
   "metadata": {
    "ExecuteTime": {
     "end_time": "2020-04-07T09:56:16.319014Z",
     "start_time": "2020-04-07T09:56:16.232822Z"
    }
   },
   "outputs": [],
   "source": [
    "set_lists_expanded_df=set_lists_expanded_df[set_lists_expanded_df.set_title_split != 'VA']"
   ]
  },
  {
   "cell_type": "code",
   "execution_count": null,
   "metadata": {
    "ExecuteTime": {
     "end_time": "2020-04-07T09:56:16.461525Z",
     "start_time": "2020-04-07T09:56:16.322302Z"
    }
   },
   "outputs": [],
   "source": [
    "set_lists_expanded_df.dropna(inplace=True)"
   ]
  },
  {
   "cell_type": "code",
   "execution_count": null,
   "metadata": {
    "ExecuteTime": {
     "end_time": "2020-04-07T09:56:17.225682Z",
     "start_time": "2020-04-07T09:56:16.464023Z"
    }
   },
   "outputs": [],
   "source": [
    "def split_song(x):\n",
    "    try:\n",
    "        y=x.split(' - ')\n",
    "        return y[1]\n",
    "    except:\n",
    "        #loads of ways that the songs are recorded and how missing songs are recorded too\n",
    "        if '...' in x:\n",
    "            return np.NaN\n",
    "        if x =='X':\n",
    "            return np.NaN\n",
    "        if '?' in x:\n",
    "            return np.NaN\n",
    "        if 'Intro' in x:\n",
    "            return np.NaN\n",
    "        if '•' in x:\n",
    "            return x.split('•')[1]\n",
    "        #no space\n",
    "        if '-' in x:\n",
    "            return x.split('-')[1]\n",
    "        \n",
    "        \n",
    "        return x"
   ]
  },
  {
   "cell_type": "code",
   "execution_count": null,
   "metadata": {
    "ExecuteTime": {
     "end_time": "2020-04-07T09:56:17.958846Z",
     "start_time": "2020-04-07T09:56:17.230017Z"
    }
   },
   "outputs": [],
   "source": [
    "set_lists_expanded_df['artist']=set_lists_expanded_df.set_list.map(lambda x:x.split(' - ')[0])\n",
    "set_lists_expanded_df['song']=set_lists_expanded_df.set_list.map(split_song)"
   ]
  },
  {
   "cell_type": "code",
   "execution_count": null,
   "metadata": {
    "ExecuteTime": {
     "end_time": "2020-04-07T09:56:17.968942Z",
     "start_time": "2020-04-07T09:56:17.960933Z"
    }
   },
   "outputs": [],
   "source": [
    "#more different unusable song titles\n",
    "filter_names_list= ['ID','?','Unknown','Unreleased','Intro','Untitled [Unreleased]','Untitled','Promo','? [Unreleased]','Outro']\n",
    "set_lists_expanded_df['song']=set_lists_expanded_df['song'].map(lambda x: np.NaN if x in filter_names_list else x)"
   ]
  },
  {
   "cell_type": "code",
   "execution_count": null,
   "metadata": {
    "ExecuteTime": {
     "end_time": "2020-04-07T09:56:18.384547Z",
     "start_time": "2020-04-07T09:56:18.312941Z"
    }
   },
   "outputs": [],
   "source": [
    "set_lists_expanded_df.artist=set_lists_expanded_df.artist.replace('N/A',np.NaN)"
   ]
  },
  {
   "cell_type": "code",
   "execution_count": null,
   "metadata": {
    "ExecuteTime": {
     "end_time": "2020-04-07T09:56:18.827086Z",
     "start_time": "2020-04-07T09:56:18.387475Z"
    }
   },
   "outputs": [],
   "source": [
    "set_lists_expanded_df.dropna(inplace=True)"
   ]
  },
  {
   "cell_type": "code",
   "execution_count": null,
   "metadata": {
    "ExecuteTime": {
     "end_time": "2020-04-07T10:15:45.724883Z",
     "start_time": "2020-04-07T10:15:45.714424Z"
    }
   },
   "outputs": [],
   "source": [
    "set_lists_expanded_df.tail()\n",
    "#can see that its taken a bit off of the some of the songs but think that may actually work in my favour\n",
    "#a lot of the time spotify wont have the exact same song title (usually shorter on spotify) as mixesdb \n",
    "#so shortening names may be preferable\n"
   ]
  },
  {
   "cell_type": "code",
   "execution_count": null,
   "metadata": {
    "ExecuteTime": {
     "end_time": "2020-04-07T10:40:19.816351Z",
     "start_time": "2020-04-07T10:40:17.166579Z"
    }
   },
   "outputs": [],
   "source": [
    "set_lists_expanded_df.to_csv('songs_with_set_title_cleaned.csv',index=False)"
   ]
  },
  {
   "cell_type": "code",
   "execution_count": null,
   "metadata": {
    "ExecuteTime": {
     "end_time": "2020-04-07T10:42:11.567361Z",
     "start_time": "2020-04-07T10:42:10.496409Z"
    }
   },
   "outputs": [],
   "source": [
    "set_lists_expanded_df=pd.read_csv('songs_with_set_title_cleaned.csv')"
   ]
  },
  {
   "cell_type": "markdown",
   "metadata": {},
   "source": [
    "## Syncing up songs with spotify"
   ]
  },
  {
   "cell_type": "code",
   "execution_count": null,
   "metadata": {
    "ExecuteTime": {
     "end_time": "2020-04-07T11:12:40.078125Z",
     "start_time": "2020-04-07T11:12:40.071619Z"
    }
   },
   "outputs": [],
   "source": [
    "def refresh():\n",
    "    '''when spotify token times out this refreshes it'''\n",
    "    global token_info, sp\n",
    "\n",
    "    if sp_oauth.is_token_expired(token_info):\n",
    "        token_info = sp_oauth.refresh_access_token(token_info['refresh_token'])\n",
    "        token = token_info['access_token']\n",
    "        sp = spotipy.Spotify(auth=token)"
   ]
  },
  {
   "cell_type": "code",
   "execution_count": null,
   "metadata": {
    "ExecuteTime": {
     "end_time": "2020-04-07T11:12:40.365356Z",
     "start_time": "2020-04-07T11:12:40.353656Z"
    }
   },
   "outputs": [],
   "source": [
    "#setting up credentials for accessing spotify\n",
    "redirect_uri='https://www.google.com/'\n",
    "scopes ='user-follow-modify'\n",
    "client_id= config.client_id\n",
    "client_secret =config.client_secret\n",
    "username = '1143043561'\n",
    "\n",
    "sp_oauth = oauth2.SpotifyOAuth(client_id=client_id,client_secret=client_secret,redirect_uri=redirect_uri,scope=scopes,username=username)\n",
    "token_info = sp_oauth.get_cached_token() \n",
    "\n",
    "if not token_info:\n",
    "    auth_url = sp_oauth.get_authorize_url()\n",
    "    print(auth_url)\n",
    "    response = input('Paste the above link into your browser, then paste the redirect url here: ')\n",
    "\n",
    "    code = sp_oauth.parse_response_code(response)\n",
    "    token_info = sp_oauth.get_access_token(code)\n",
    "\n",
    "    token = token_info['access_token']\n",
    "else:\n",
    "    token = token_info['access_token']\n",
    "sp = spotipy.Spotify(auth=token)"
   ]
  },
  {
   "cell_type": "code",
   "execution_count": null,
   "metadata": {
    "ExecuteTime": {
     "end_time": "2020-04-07T11:12:40.952046Z",
     "start_time": "2020-04-07T11:12:40.934766Z"
    }
   },
   "outputs": [],
   "source": [
    "artists =set_lists_expanded_df.artist.tolist()\n",
    "tracks =set_lists_expanded_df.song.tolist()"
   ]
  },
  {
   "cell_type": "code",
   "execution_count": null,
   "metadata": {
    "ExecuteTime": {
     "end_time": "2020-04-08T08:47:23.363300Z",
     "start_time": "2020-04-07T11:12:41.812514Z"
    }
   },
   "outputs": [],
   "source": [
    "print(len(artists),len(tracks))\n",
    "\n",
    "\n",
    "\n",
    "spotify_song_names=[]\n",
    "spotify_ids=[]\n",
    "spotify_previews=[]\n",
    "not_found_count =0\n",
    "for ind, tup in tqdm_notebook(enumerate(zip(artists,tracks))):\n",
    "    \n",
    "    \n",
    "    if ind%1500==0:\n",
    "        print(ind)\n",
    "\n",
    "    try:\n",
    "        track_id = sp.search(q='artist:' + tup[0] + ' track:' + tup[1], type='track')\n",
    "        if not track_id:\n",
    "            if '[' in tup[1]:\n",
    "                #accounting for the weird entries of songs and artists where they will be the same\n",
    "                song_short = tup[1].split('[')[0]\n",
    "                track_id = sp.search(q='artist:' + tup[0] + ' track:' + song_short, type='track')\n",
    "                \n",
    "        if not track_id:\n",
    "            #same as above\n",
    "            if tup[0]==tup[1]:\n",
    "                track_id =sp.search(q=tup[0],type='track')\n",
    "    except:\n",
    "        refresh()\n",
    "        track_id = sp.search(q='artist:' + tup[0] + ' track:' + tup[1], type='track')\n",
    "\n",
    "        \n",
    "    try:\n",
    "    #some tracks cant be found with the search\n",
    "        if track_id['tracks']['items'][0]['id']:\n",
    "            spotify_ids.append(track_id['tracks']['items'][0]['id'])\n",
    "        else:\n",
    "            spotify_ids.append(np.NaN)\n",
    "\n",
    "        if track_id['tracks']['items'][0]['preview_url']:\n",
    "            spotify_previews.append(track_id['tracks']['items'][0]['preview_url'])\n",
    "        else:\n",
    "            spotify_previews.append(np.NaN)\n",
    "\n",
    "        if track_id['tracks']['items'][0]['name']:\n",
    "            spotify_song_names.append(track_id['tracks']['items'][0]['name'])\n",
    "        else:\n",
    "            spotify_song_names.append(np.NaN)\n",
    "\n",
    "\n",
    "    except:\n",
    "        spotify_song_names.append(np.NaN)\n",
    "        spotify_ids.append(np.NaN)\n",
    "        spotify_previews.append(np.NaN)\n",
    "        not_found_count +=1\n",
    "print('num songs not found :',not_found_count)"
   ]
  },
  {
   "cell_type": "code",
   "execution_count": null,
   "metadata": {
    "ExecuteTime": {
     "end_time": "2020-04-08T08:53:27.870055Z",
     "start_time": "2020-04-08T08:53:00.894826Z"
    }
   },
   "outputs": [],
   "source": [
    "#create a df out of the songs with spotify info\n",
    "limited_df =pd.DataFrame([spotify_song_names,spotify_ids,spotify_previews]).T"
   ]
  },
  {
   "cell_type": "code",
   "execution_count": null,
   "metadata": {
    "ExecuteTime": {
     "end_time": "2020-04-08T08:57:01.028835Z",
     "start_time": "2020-04-08T08:57:00.959990Z"
    }
   },
   "outputs": [],
   "source": [
    "limited_df.columns=['spotify_song_name','spotify_id','preview']\n",
    "limited_df['artist']=artists\n",
    "limited_df['songs']=tracks"
   ]
  },
  {
   "cell_type": "code",
   "execution_count": null,
   "metadata": {
    "ExecuteTime": {
     "end_time": "2020-04-08T08:57:55.648306Z",
     "start_time": "2020-04-08T08:57:55.567846Z"
    }
   },
   "outputs": [],
   "source": [
    "limited_df.dropna(subset=['spotify_id'],inplace=True)\n",
    "limited_df.drop_duplicates(inplace=True)"
   ]
  },
  {
   "cell_type": "code",
   "execution_count": null,
   "metadata": {
    "ExecuteTime": {
     "end_time": "2020-04-08T09:23:22.223351Z",
     "start_time": "2020-04-08T09:23:21.455662Z"
    }
   },
   "outputs": [],
   "source": [
    "limited_df.to_csv('mixes_db_tracks_with_spotify.csv',index=False)"
   ]
  },
  {
   "cell_type": "markdown",
   "metadata": {},
   "source": [
    "## Preparing dataset for reccomendations"
   ]
  },
  {
   "cell_type": "code",
   "execution_count": 2,
   "metadata": {
    "ExecuteTime": {
     "end_time": "2020-04-08T13:08:11.585456Z",
     "start_time": "2020-04-08T13:08:09.979134Z"
    }
   },
   "outputs": [],
   "source": [
    "set_lists_expanded_df=pd.read_csv('songs_with_set_title_cleaned.csv')\n",
    "limited_df= pd.read_csv('mixes_db_tracks_with_spotify.csv')"
   ]
  },
  {
   "cell_type": "code",
   "execution_count": 3,
   "metadata": {
    "ExecuteTime": {
     "end_time": "2020-04-08T13:11:43.253576Z",
     "start_time": "2020-04-08T13:11:43.222484Z"
    }
   },
   "outputs": [
    {
     "data": {
      "text/html": [
       "<div>\n",
       "<style scoped>\n",
       "    .dataframe tbody tr th:only-of-type {\n",
       "        vertical-align: middle;\n",
       "    }\n",
       "\n",
       "    .dataframe tbody tr th {\n",
       "        vertical-align: top;\n",
       "    }\n",
       "\n",
       "    .dataframe thead th {\n",
       "        text-align: right;\n",
       "    }\n",
       "</style>\n",
       "<table border=\"1\" class=\"dataframe\">\n",
       "  <thead>\n",
       "    <tr style=\"text-align: right;\">\n",
       "      <th></th>\n",
       "      <th>set_title</th>\n",
       "      <th>set_list</th>\n",
       "      <th>set_title_split</th>\n",
       "      <th>artist</th>\n",
       "      <th>song</th>\n",
       "    </tr>\n",
       "  </thead>\n",
       "  <tbody>\n",
       "    <tr>\n",
       "      <th>0</th>\n",
       "      <td>2016 - Andrew Weatherall - Rainbow Disco Club</td>\n",
       "      <td>The Visitor - Walk With Me</td>\n",
       "      <td>Andrew Weatherall</td>\n",
       "      <td>The Visitor</td>\n",
       "      <td>Walk With Me</td>\n",
       "    </tr>\n",
       "    <tr>\n",
       "      <th>1</th>\n",
       "      <td>2016 - Andrew Weatherall - Rainbow Disco Club</td>\n",
       "      <td>DJ Kaos - Hard To Earn</td>\n",
       "      <td>Andrew Weatherall</td>\n",
       "      <td>DJ Kaos</td>\n",
       "      <td>Hard To Earn</td>\n",
       "    </tr>\n",
       "    <tr>\n",
       "      <th>2</th>\n",
       "      <td>2016 - Andrew Weatherall - Rainbow Disco Club</td>\n",
       "      <td>The Revenge - MDMF</td>\n",
       "      <td>Andrew Weatherall</td>\n",
       "      <td>The Revenge</td>\n",
       "      <td>MDMF</td>\n",
       "    </tr>\n",
       "    <tr>\n",
       "      <th>3</th>\n",
       "      <td>2016 - Andrew Weatherall - Rainbow Disco Club</td>\n",
       "      <td>Rhythm Odyssey &amp; Dr Dunks - Fox</td>\n",
       "      <td>Andrew Weatherall</td>\n",
       "      <td>Rhythm Odyssey &amp; Dr Dunks</td>\n",
       "      <td>Fox</td>\n",
       "    </tr>\n",
       "    <tr>\n",
       "      <th>4</th>\n",
       "      <td>2016 - Andrew Weatherall - Rainbow Disco Club</td>\n",
       "      <td>Echo Echo - Synths Of Jupiter</td>\n",
       "      <td>Andrew Weatherall</td>\n",
       "      <td>Echo Echo</td>\n",
       "      <td>Synths Of Jupiter</td>\n",
       "    </tr>\n",
       "  </tbody>\n",
       "</table>\n",
       "</div>"
      ],
      "text/plain": [
       "                                       set_title  \\\n",
       "0  2016 - Andrew Weatherall - Rainbow Disco Club   \n",
       "1  2016 - Andrew Weatherall - Rainbow Disco Club   \n",
       "2  2016 - Andrew Weatherall - Rainbow Disco Club   \n",
       "3  2016 - Andrew Weatherall - Rainbow Disco Club   \n",
       "4  2016 - Andrew Weatherall - Rainbow Disco Club   \n",
       "\n",
       "                          set_list    set_title_split  \\\n",
       "0       The Visitor - Walk With Me  Andrew Weatherall   \n",
       "1           DJ Kaos - Hard To Earn  Andrew Weatherall   \n",
       "2               The Revenge - MDMF  Andrew Weatherall   \n",
       "3  Rhythm Odyssey & Dr Dunks - Fox  Andrew Weatherall   \n",
       "4    Echo Echo - Synths Of Jupiter  Andrew Weatherall   \n",
       "\n",
       "                      artist               song  \n",
       "0                The Visitor       Walk With Me  \n",
       "1                    DJ Kaos       Hard To Earn  \n",
       "2                The Revenge               MDMF  \n",
       "3  Rhythm Odyssey & Dr Dunks                Fox  \n",
       "4                  Echo Echo  Synths Of Jupiter  "
      ]
     },
     "execution_count": 3,
     "metadata": {},
     "output_type": "execute_result"
    }
   ],
   "source": [
    "set_lists_expanded_df.head()"
   ]
  },
  {
   "cell_type": "code",
   "execution_count": 29,
   "metadata": {
    "ExecuteTime": {
     "end_time": "2020-04-08T13:28:16.342293Z",
     "start_time": "2020-04-08T13:28:15.887051Z"
    }
   },
   "outputs": [],
   "source": [
    "full_df=pd.merge(set_lists_expanded_df,limited_df,how='outer',left_on=['artist','song'],right_on=['artist','songs'])"
   ]
  },
  {
   "cell_type": "markdown",
   "metadata": {},
   "source": [
    "I need to seperate out DJs who played back to back sets. I think the fairest way of doing this is to assign all the songs in the set to each DJ as if there is a back to back set there is no way to tell who is playing what. I wanted to do this after finding spotify features as then there are less duplicates. The only downside of doing this is that I am sort of artificially increasing playcounts of songs."
   ]
  },
  {
   "cell_type": "code",
   "execution_count": 30,
   "metadata": {
    "ExecuteTime": {
     "end_time": "2020-04-08T13:28:16.956856Z",
     "start_time": "2020-04-08T13:28:16.575124Z"
    }
   },
   "outputs": [
    {
     "data": {
      "text/html": [
       "<div>\n",
       "<style scoped>\n",
       "    .dataframe tbody tr th:only-of-type {\n",
       "        vertical-align: middle;\n",
       "    }\n",
       "\n",
       "    .dataframe tbody tr th {\n",
       "        vertical-align: top;\n",
       "    }\n",
       "\n",
       "    .dataframe thead th {\n",
       "        text-align: right;\n",
       "    }\n",
       "</style>\n",
       "<table border=\"1\" class=\"dataframe\">\n",
       "  <thead>\n",
       "    <tr style=\"text-align: right;\">\n",
       "      <th></th>\n",
       "      <th>set_title</th>\n",
       "      <th>set_list</th>\n",
       "      <th>set_title_split</th>\n",
       "      <th>artist</th>\n",
       "      <th>song</th>\n",
       "      <th>spotify_song_name</th>\n",
       "      <th>spotify_id</th>\n",
       "      <th>preview</th>\n",
       "      <th>songs</th>\n",
       "    </tr>\n",
       "  </thead>\n",
       "  <tbody>\n",
       "    <tr>\n",
       "      <th>30</th>\n",
       "      <td>- Mark Fanciulli, Carlo Lio - Between 2 Points</td>\n",
       "      <td>Marco Faraone - Replace [Inmotion]</td>\n",
       "      <td>Mark Fanciulli, Carlo Lio</td>\n",
       "      <td>Marco Faraone</td>\n",
       "      <td>Replace [Inmotion]</td>\n",
       "      <td>NaN</td>\n",
       "      <td>NaN</td>\n",
       "      <td>NaN</td>\n",
       "      <td>NaN</td>\n",
       "    </tr>\n",
       "    <tr>\n",
       "      <th>42</th>\n",
       "      <td>- Mark Knight, Christian Smith - Toolroom Rad...</td>\n",
       "      <td>Ron Costa - Hourncase [Tronic]</td>\n",
       "      <td>Mark Knight, Christian Smith</td>\n",
       "      <td>Ron Costa</td>\n",
       "      <td>Hourncase [Tronic]</td>\n",
       "      <td>NaN</td>\n",
       "      <td>NaN</td>\n",
       "      <td>NaN</td>\n",
       "      <td>NaN</td>\n",
       "    </tr>\n",
       "    <tr>\n",
       "      <th>48</th>\n",
       "      <td>- B.Traits, La Fleur, Tom Trago &amp; Alan Fitzpa...</td>\n",
       "      <td>Jack Master - Bang The Box (Slam Remix) [Soma]</td>\n",
       "      <td>B.Traits, La Fleur, Tom Trago &amp; Alan Fitzpatri...</td>\n",
       "      <td>Jack Master</td>\n",
       "      <td>Bang The Box (Slam Remix) [Soma]</td>\n",
       "      <td>Bang the Box - Slam Remix</td>\n",
       "      <td>1DHVgTCO1lO4oh07rdaVgB</td>\n",
       "      <td>https://p.scdn.co/mp3-preview/0a8448ab06aa821b...</td>\n",
       "      <td>Bang The Box (Slam Remix) [Soma]</td>\n",
       "    </tr>\n",
       "    <tr>\n",
       "      <th>83</th>\n",
       "      <td>- John Digweed, Wehbba - Transitions 630, Pro...</td>\n",
       "      <td>Wehbba - Psyche (Mark Reeve Remix) [Tronic]</td>\n",
       "      <td>John Digweed, Wehbba</td>\n",
       "      <td>Wehbba</td>\n",
       "      <td>Psyche (Mark Reeve Remix) [Tronic]</td>\n",
       "      <td>NaN</td>\n",
       "      <td>NaN</td>\n",
       "      <td>NaN</td>\n",
       "      <td>NaN</td>\n",
       "    </tr>\n",
       "    <tr>\n",
       "      <th>128</th>\n",
       "      <td>- Darius Syrossian, Doorly, Harry Romero - Do...</td>\n",
       "      <td>Joey Beltram - Energy Flash [R&amp;S]</td>\n",
       "      <td>Darius Syrossian, Doorly, Harry Romero</td>\n",
       "      <td>Joey Beltram</td>\n",
       "      <td>Energy Flash [R&amp;S]</td>\n",
       "      <td>Energy Flash</td>\n",
       "      <td>2nBjTtvY6eN4GekYk4cdiw</td>\n",
       "      <td>https://p.scdn.co/mp3-preview/c54670d24d127f0f...</td>\n",
       "      <td>Energy Flash [R&amp;S]</td>\n",
       "    </tr>\n",
       "  </tbody>\n",
       "</table>\n",
       "</div>"
      ],
      "text/plain": [
       "                                             set_title  \\\n",
       "30      - Mark Fanciulli, Carlo Lio - Between 2 Points   \n",
       "42    - Mark Knight, Christian Smith - Toolroom Rad...   \n",
       "48    - B.Traits, La Fleur, Tom Trago & Alan Fitzpa...   \n",
       "83    - John Digweed, Wehbba - Transitions 630, Pro...   \n",
       "128   - Darius Syrossian, Doorly, Harry Romero - Do...   \n",
       "\n",
       "                                           set_list  \\\n",
       "30               Marco Faraone - Replace [Inmotion]   \n",
       "42                   Ron Costa - Hourncase [Tronic]   \n",
       "48   Jack Master - Bang The Box (Slam Remix) [Soma]   \n",
       "83      Wehbba - Psyche (Mark Reeve Remix) [Tronic]   \n",
       "128               Joey Beltram - Energy Flash [R&S]   \n",
       "\n",
       "                                       set_title_split         artist  \\\n",
       "30                           Mark Fanciulli, Carlo Lio  Marco Faraone   \n",
       "42                        Mark Knight, Christian Smith      Ron Costa   \n",
       "48   B.Traits, La Fleur, Tom Trago & Alan Fitzpatri...    Jack Master   \n",
       "83                                John Digweed, Wehbba         Wehbba   \n",
       "128             Darius Syrossian, Doorly, Harry Romero   Joey Beltram   \n",
       "\n",
       "                                   song          spotify_song_name  \\\n",
       "30                   Replace [Inmotion]                        NaN   \n",
       "42                   Hourncase [Tronic]                        NaN   \n",
       "48     Bang The Box (Slam Remix) [Soma]  Bang the Box - Slam Remix   \n",
       "83   Psyche (Mark Reeve Remix) [Tronic]                        NaN   \n",
       "128                  Energy Flash [R&S]               Energy Flash   \n",
       "\n",
       "                 spotify_id  \\\n",
       "30                      NaN   \n",
       "42                      NaN   \n",
       "48   1DHVgTCO1lO4oh07rdaVgB   \n",
       "83                      NaN   \n",
       "128  2nBjTtvY6eN4GekYk4cdiw   \n",
       "\n",
       "                                               preview  \\\n",
       "30                                                 NaN   \n",
       "42                                                 NaN   \n",
       "48   https://p.scdn.co/mp3-preview/0a8448ab06aa821b...   \n",
       "83                                                 NaN   \n",
       "128  https://p.scdn.co/mp3-preview/c54670d24d127f0f...   \n",
       "\n",
       "                                songs  \n",
       "30                                NaN  \n",
       "42                                NaN  \n",
       "48   Bang The Box (Slam Remix) [Soma]  \n",
       "83                                NaN  \n",
       "128                Energy Flash [R&S]  "
      ]
     },
     "execution_count": 30,
     "metadata": {},
     "output_type": "execute_result"
    }
   ],
   "source": [
    "full_df[full_df.set_title_split.str.contains(',')].head()"
   ]
  },
  {
   "cell_type": "code",
   "execution_count": 31,
   "metadata": {
    "ExecuteTime": {
     "end_time": "2020-04-08T13:28:17.527016Z",
     "start_time": "2020-04-08T13:28:16.959304Z"
    }
   },
   "outputs": [],
   "source": [
    "#kept all values as lists so i can explode\n",
    "full_df.set_title_split=full_df.set_title_split.map(lambda x: x.split(',') if ',' in x else [x])"
   ]
  },
  {
   "cell_type": "code",
   "execution_count": 32,
   "metadata": {
    "ExecuteTime": {
     "end_time": "2020-04-08T13:28:17.534079Z",
     "start_time": "2020-04-08T13:28:17.529218Z"
    }
   },
   "outputs": [],
   "source": [
    "cols=full_df.columns.tolist()\n",
    "cols.remove('set_title_split')\n",
    "full_df=full_df.set_index(keys=cols).explode('set_title_split').reset_index()"
   ]
  },
  {
   "cell_type": "code",
   "execution_count": 35,
   "metadata": {
    "ExecuteTime": {
     "end_time": "2020-04-08T13:29:53.759930Z",
     "start_time": "2020-04-08T13:29:53.498645Z"
    }
   },
   "outputs": [],
   "source": [
    "#because we are using spotify ids for searching for songs cannot keep songs without spotify ids\n",
    "full_df.dropna(subset=['spotify_id'],inplace=True)"
   ]
  },
  {
   "cell_type": "code",
   "execution_count": 55,
   "metadata": {
    "ExecuteTime": {
     "end_time": "2020-04-08T13:48:43.918290Z",
     "start_time": "2020-04-08T13:48:43.181304Z"
    }
   },
   "outputs": [],
   "source": [
    "full_df['user_nums'] = full_df.groupby('set_title_split').ngroup().values\n",
    "full_df['song_nums'] = full_df.groupby('set_list').ngroup().values\n",
    "count_series = full_df.groupby(['set_title_split', 'set_list']).size()\n",
    "plays_df = count_series.to_frame(name = 'size').reset_index()\n",
    "full_df=pd.merge(full_df,plays_df,on=['set_title_split','set_list'],how='left')"
   ]
  },
  {
   "cell_type": "code",
   "execution_count": 63,
   "metadata": {
    "ExecuteTime": {
     "end_time": "2020-04-08T13:54:18.630297Z",
     "start_time": "2020-04-08T13:54:16.530680Z"
    }
   },
   "outputs": [],
   "source": [
    "full_df.to_csv('mixesdb_df_for_recs.csv')"
   ]
  }
 ],
 "metadata": {
  "kernelspec": {
   "display_name": "rec_env",
   "language": "python",
   "name": "rec_env"
  },
  "language_info": {
   "codemirror_mode": {
    "name": "ipython",
    "version": 3
   },
   "file_extension": ".py",
   "mimetype": "text/x-python",
   "name": "python",
   "nbconvert_exporter": "python",
   "pygments_lexer": "ipython3",
   "version": "3.7.4"
  },
  "toc": {
   "base_numbering": 1,
   "nav_menu": {},
   "number_sections": true,
   "sideBar": true,
   "skip_h1_title": false,
   "title_cell": "Table of Contents",
   "title_sidebar": "Contents",
   "toc_cell": false,
   "toc_position": {},
   "toc_section_display": true,
   "toc_window_display": false
  }
 },
 "nbformat": 4,
 "nbformat_minor": 2
}
