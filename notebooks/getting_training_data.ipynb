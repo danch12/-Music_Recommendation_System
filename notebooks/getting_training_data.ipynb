{
 "cells": [
  {
   "cell_type": "code",
   "execution_count": 7,
   "metadata": {
    "ExecuteTime": {
     "end_time": "2020-04-10T19:17:35.772862Z",
     "start_time": "2020-04-10T19:17:35.763017Z"
    }
   },
   "outputs": [],
   "source": [
    "import spotipy\n",
    "from spotipy.oauth2 import SpotifyClientCredentials\n",
    "import spotipy.util as util\n",
    "import pandas as pd\n",
    "import numpy as np\n",
    "import os\n",
    "import sys\n",
    "import json\n",
    "import webbrowser\n",
    "from json.decoder import JSONDecodeError\n",
    "import os\n",
    "import io\n",
    "from six.moves.urllib.request import urlopen\n",
    "import numpy as np\n",
    "import librosa\n",
    "import librosa.display\n",
    "import soundfile as sf\n",
    "import glob\n",
    "import pickle\n",
    "import config\n",
    "\n",
    "import pydub\n",
    "from urllib.request import urlopen\n",
    "import requests\n",
    "from shutil import copyfileobj\n",
    "from tempfile import NamedTemporaryFile\n",
    "from urllib.request import urlopen, Request\n",
    "import matplotlib.pyplot as plt"
   ]
  },
  {
   "cell_type": "markdown",
   "metadata": {},
   "source": [
    "## Connecting to spotify and obtaining song info"
   ]
  },
  {
   "cell_type": "markdown",
   "metadata": {},
   "source": [
    "Just going by the spotify playlist criteria was a bad idea- turns out techno playlists dont always have techno songs in them. Same goes for a lot of other genres. Therefore will have to look for the genre of the song specifically as well."
   ]
  },
  {
   "cell_type": "code",
   "execution_count": 8,
   "metadata": {
    "ExecuteTime": {
     "end_time": "2020-04-10T19:17:35.788065Z",
     "start_time": "2020-04-10T19:17:35.780912Z"
    }
   },
   "outputs": [],
   "source": [
    "#you will need your own client id and secret\n",
    "client_id= config.client_id\n",
    "client_secret =config.client_secret"
   ]
  },
  {
   "cell_type": "code",
   "execution_count": 9,
   "metadata": {
    "ExecuteTime": {
     "end_time": "2020-04-10T19:17:35.900311Z",
     "start_time": "2020-04-10T19:17:35.802345Z"
    }
   },
   "outputs": [],
   "source": [
    "#this code block is needed to connect to spotify \n",
    "username = '1143043561'\n",
    "auth = SpotifyClientCredentials(\n",
    "    client_id=client_id,\n",
    "    client_secret=client_secret\n",
    ")\n",
    "\n",
    "\n",
    "try:\n",
    "    token = auth.get_access_token()\n",
    "except:\n",
    "    os.remove(f'.cache-{username}')\n",
    "    token = auth.get_access_token()\n",
    "    \n",
    "#create spotify object\n",
    "spotify = spotipy.Spotify(auth=token)"
   ]
  },
  {
   "cell_type": "code",
   "execution_count": 10,
   "metadata": {
    "ExecuteTime": {
     "end_time": "2020-04-10T19:17:35.916483Z",
     "start_time": "2020-04-10T19:17:35.903607Z"
    }
   },
   "outputs": [],
   "source": [
    "def get_songs_from_playlist_search(limit=10,artist_name='techno'):\n",
    "    '''takes a search term such as techno, finds playlists with techno\n",
    "        in the name and then returns information about the songs in\n",
    "        the playlist'''\n",
    "    playlist_ids=[]\n",
    "    song_ids = []\n",
    "    playlists =[]\n",
    "    song_ids=[]\n",
    "    preview_urls=[]\n",
    "    song_names=[]\n",
    "    \n",
    "    count=0\n",
    "    \n",
    "    results = spotify.search(q=artist_name,limit=limit, type='playlist')\n",
    "    #find playlists with specific search term\n",
    "    for playlist_info in results['playlists']['items']:\n",
    "        playlist_ids.append(playlist_info['id'])\n",
    "    \n",
    "    #add all the songs in the playlists to another list\n",
    "    for playlist in playlist_ids:\n",
    "        source_playlist=spotify.user_playlist(username,playlist)\n",
    "        song_set=source_playlist['tracks']\n",
    "        songs=song_set['items']\n",
    "        \n",
    "        while song_set['next']:\n",
    "            song_set=spotify.next(song_set)\n",
    "            for song in song_set['items']:\n",
    "                songs.append(song)\n",
    "        playlists.append(songs)\n",
    "    \n",
    "        \n",
    "    #loop over the song lists and extract information\n",
    "    for song_list in playlists:\n",
    "        for track in song_list:\n",
    "            \n",
    "            try:\n",
    "                if track['track']['id']==None:\n",
    "                    pass\n",
    "                else:\n",
    "                    try:\n",
    "                        song_ids.append(track['track']['id'])\n",
    "                        song_names.append(track['track']['name'])\n",
    "                        preview_urls.append(track['track']['preview_url'])\n",
    "\n",
    "                    except:\n",
    "                        print(count)\n",
    "                        count+=1\n",
    "            except:\n",
    "                print(count)\n",
    "                count+=1\n",
    "    \n",
    "    return (song_ids,song_names,preview_urls)"
   ]
  },
  {
   "cell_type": "code",
   "execution_count": 11,
   "metadata": {
    "ExecuteTime": {
     "end_time": "2020-04-10T19:17:35.925659Z",
     "start_time": "2020-04-10T19:17:35.919328Z"
    }
   },
   "outputs": [],
   "source": [
    "def get_genre(song_ids):\n",
    "    #get genres using song ids\n",
    "    genres=[]\n",
    "    track=spotify.track(song_ids)\n",
    "    artist_id=track['artists'][0]['id']\n",
    "    album_id=track['album']['id']\n",
    "    album_info=spotify.album(album_id)\n",
    "    #first looks to see if album has genre and if not looks at artist genres\n",
    "    genres=album_info['genres']\n",
    "    if not genres:\n",
    "        artist=spotify.artist(artist_id)\n",
    "        genres=artist['genres']\n",
    "    return genres"
   ]
  },
  {
   "cell_type": "code",
   "execution_count": 12,
   "metadata": {
    "ExecuteTime": {
     "end_time": "2020-04-10T19:17:35.936007Z",
     "start_time": "2020-04-10T19:17:35.928703Z"
    }
   },
   "outputs": [],
   "source": [
    "#make it so there is only one genre\n",
    "def top_genre(x):\n",
    "    \n",
    "    try:\n",
    "        return x[0].split(' ')[-1]\n",
    "    except:\n",
    "        try:\n",
    "            return x[0]\n",
    "        except:\n",
    "            return 'blank'"
   ]
  },
  {
   "cell_type": "code",
   "execution_count": 13,
   "metadata": {
    "ExecuteTime": {
     "end_time": "2020-04-10T19:17:35.944595Z",
     "start_time": "2020-04-10T19:17:35.938498Z"
    }
   },
   "outputs": [],
   "source": [
    "#filter out the genres that you dont want\n",
    "def filter_by_genre(songs,genres):\n",
    "    songs_with_genre=[]\n",
    "    for val in songs:\n",
    "        if val[-1] in genres:\n",
    "            songs_with_genre.append(val)\n",
    "    return songs_with_genre"
   ]
  },
  {
   "cell_type": "code",
   "execution_count": 14,
   "metadata": {
    "ExecuteTime": {
     "end_time": "2020-04-10T19:20:44.764815Z",
     "start_time": "2020-04-10T19:17:35.947813Z"
    }
   },
   "outputs": [
    {
     "name": "stdout",
     "output_type": "stream",
     "text": [
      "retrying ...1secs\n",
      "retrying ...1secs\n",
      "retrying ...1secs\n",
      "retrying ...1secs\n",
      "retrying ...1secs\n",
      "retrying ...1secs\n",
      "retrying ...1secs\n",
      "retrying ...1secs\n",
      "retrying ...1secs\n",
      "retrying ...1secs\n",
      "retrying ...1secs\n"
     ]
    }
   ],
   "source": [
    "search_words=['techno','pop','hip hop','grime','uk garage','rock','calssical']\n",
    "allowed_genres=[['techno','house','electronic'],['pop','electropop'],\n",
    "                   ['hop','rap','funk','crunk'], ['grime','rap'],\n",
    "                   ['garage','dancehall','breakbeat','funky'],\n",
    "                   ['rock','metal''alternative'],\n",
    "                   ['classical','performance','baroque','score']]\n",
    "search_dict={}\n",
    "for ind, word in enumerate(search_words):\n",
    "    ids,names,previews=get_songs_from_playlist_search(limit=1,artist_name=word)\n",
    "    genres=[]\n",
    "    for song_id in ids:\n",
    "        genres.append(get_genre(song_id))\n",
    "    \n",
    "    clean_genres = []\n",
    "    for genre_set in genres:\n",
    "        clean_genres.append(top_genre(genre_set))\n",
    "    \n",
    "    #for each song list i am only going to allow certain genres to keep the song list 'pure'\n",
    "    \n",
    "                   \n",
    "    song_zip=list(zip(ids,names,previews,clean_genres))\n",
    "    song_zip_allowed =filter_by_genre(song_zip,allowed_genres[ind])\n",
    "    \n",
    "    search_dict[word]= song_zip_allowed\n",
    "    \n",
    "    \n",
    "    "
   ]
  },
  {
   "cell_type": "code",
   "execution_count": 15,
   "metadata": {
    "ExecuteTime": {
     "end_time": "2020-04-10T19:20:44.774426Z",
     "start_time": "2020-04-10T19:20:44.770627Z"
    }
   },
   "outputs": [],
   "source": [
    "all_songs_final=list(search_dict.values())"
   ]
  },
  {
   "cell_type": "code",
   "execution_count": 16,
   "metadata": {
    "ExecuteTime": {
     "end_time": "2020-04-10T19:20:44.785328Z",
     "start_time": "2020-04-10T19:20:44.779610Z"
    }
   },
   "outputs": [],
   "source": [
    "#save so dont have to do this process everytime\n",
    "with open('new_all_songs1.pkl', 'wb') as f:\n",
    "    pickle.dump(all_songs_final,f)"
   ]
  },
  {
   "cell_type": "code",
   "execution_count": 17,
   "metadata": {
    "ExecuteTime": {
     "end_time": "2020-04-10T19:20:44.796666Z",
     "start_time": "2020-04-10T19:20:44.789656Z"
    }
   },
   "outputs": [],
   "source": [
    "with open('new_all_songs1.pkl', 'rb') as f:\n",
    "     all_songs_final = pickle.load(f)"
   ]
  },
  {
   "cell_type": "code",
   "execution_count": 18,
   "metadata": {
    "ExecuteTime": {
     "end_time": "2020-04-10T19:20:44.808280Z",
     "start_time": "2020-04-10T19:20:44.799618Z"
    }
   },
   "outputs": [
    {
     "data": {
      "text/plain": [
       "'electronic'"
      ]
     },
     "execution_count": 18,
     "metadata": {},
     "output_type": "execute_result"
    }
   ],
   "source": [
    "all_songs_final[0][3][3]"
   ]
  },
  {
   "cell_type": "code",
   "execution_count": 19,
   "metadata": {
    "ExecuteTime": {
     "end_time": "2020-04-10T19:20:44.833092Z",
     "start_time": "2020-04-10T19:20:44.817609Z"
    }
   },
   "outputs": [
    {
     "data": {
      "text/plain": [
       "('7v1JbouuzwrFU5waJXR5cu',\n",
       " 'Ever Gone',\n",
       " 'https://p.scdn.co/mp3-preview/930acf9e6e46e30df026c95ea38178a738f2ae9f?cid=461b02dc885841c0a798981c336f46f0',\n",
       " 'techno')"
      ]
     },
     "execution_count": 19,
     "metadata": {},
     "output_type": "execute_result"
    }
   ],
   "source": [
    "all_songs_final[0][0]"
   ]
  },
  {
   "cell_type": "markdown",
   "metadata": {},
   "source": [
    "## Creating Spectograms"
   ]
  },
  {
   "cell_type": "code",
   "execution_count": 20,
   "metadata": {
    "ExecuteTime": {
     "end_time": "2020-04-10T19:20:44.847748Z",
     "start_time": "2020-04-10T19:20:44.836567Z"
    }
   },
   "outputs": [],
   "source": [
    "categories=['techno','pop','hip hop','grime','uk garage','rock','calssical']\n",
    "full_dict={}"
   ]
  },
  {
   "cell_type": "code",
   "execution_count": 21,
   "metadata": {
    "ExecuteTime": {
     "end_time": "2020-04-10T19:28:18.277723Z",
     "start_time": "2020-04-10T19:20:44.851594Z"
    }
   },
   "outputs": [
    {
     "name": "stdout",
     "output_type": "stream",
     "text": [
      "0\n",
      "103\n",
      "157\n",
      "227\n"
     ]
    }
   ],
   "source": [
    "#count to keep track of where we are \n",
    "\n",
    "\n",
    "count=0\n",
    "did_not_convert=0\n",
    "for ind, category in enumerate(all_songs_final):\n",
    "    temp_specs=[]\n",
    "    temp_info=[]\n",
    "    for ind_song, tup in enumerate(category):\n",
    "        if tup[2] != None:\n",
    "            try:\n",
    "                \n",
    "                mp3_url = tup[2]  \n",
    "                wav = io.BytesIO()\n",
    "                with urlopen(mp3_url) as r:\n",
    "                    r.seek = lambda *args: None  # allow pydub to call seek(0)\n",
    "                    pydub.AudioSegment.from_file(r).export(wav, \"wav\")\n",
    "\n",
    "                wav.seek(0)\n",
    "                y, sr = librosa.load(wav)\n",
    "\n",
    "                # mel-scaled power (energy-squared) spectrogram\n",
    "                mel_spec = librosa.feature.melspectrogram(y, sr=sr,n_mels=128,hop_length=1024,n_fft=2048)\n",
    "                # Convert to log scale (dB)\n",
    "                log_mel_spec = librosa.amplitude_to_db(mel_spec, ref=np.max)\n",
    "                #make dimensions of the array smaller\n",
    "                log_mel_spec = np.resize(log_mel_spec,(128,644))\n",
    "                #prints count every 50 spectograms\n",
    "                if ind_song%50==0:\n",
    "                    print(count)\n",
    "                count+=1\n",
    "                #store the info\n",
    "                temp_specs.append(log_mel_spec)\n",
    "                temp_info.append(tup)\n",
    "                #the except is just so it doesnt break if one of the urls is wrong/missing\n",
    "            except:\n",
    "                    print('did not convert')\n",
    "                    did_not_convert+=1\n",
    "    full_dict[categories[ind]]=(temp_specs,temp_info)"
   ]
  },
  {
   "cell_type": "code",
   "execution_count": 22,
   "metadata": {
    "ExecuteTime": {
     "end_time": "2020-04-10T19:28:18.285070Z",
     "start_time": "2020-04-10T19:28:18.279833Z"
    }
   },
   "outputs": [],
   "source": [
    "specs= [tup[0] for tup in full_dict.values()]\n",
    "info= [tup[1] for tup in full_dict.values()]"
   ]
  },
  {
   "cell_type": "code",
   "execution_count": 23,
   "metadata": {
    "ExecuteTime": {
     "end_time": "2020-04-10T19:28:18.532626Z",
     "start_time": "2020-04-10T19:28:18.288589Z"
    }
   },
   "outputs": [],
   "source": [
    "#save spectograms because its long to do every time\n",
    "with open('new_spectros.pkl', 'wb') as f:\n",
    "    pickle.dump(specs,f)"
   ]
  },
  {
   "cell_type": "code",
   "execution_count": 24,
   "metadata": {
    "ExecuteTime": {
     "end_time": "2020-04-10T19:28:18.541378Z",
     "start_time": "2020-04-10T19:28:18.535212Z"
    }
   },
   "outputs": [],
   "source": [
    "#save names of songs\n",
    "with open('new_info.pkl','wb') as f:\n",
    "    pickle.dump(info,f)"
   ]
  }
 ],
 "metadata": {
  "kernelspec": {
   "display_name": "Python 3",
   "language": "python",
   "name": "python3"
  },
  "language_info": {
   "codemirror_mode": {
    "name": "ipython",
    "version": 3
   },
   "file_extension": ".py",
   "mimetype": "text/x-python",
   "name": "python",
   "nbconvert_exporter": "python",
   "pygments_lexer": "ipython3",
   "version": "3.7.4"
  },
  "toc": {
   "base_numbering": 1,
   "nav_menu": {},
   "number_sections": true,
   "sideBar": true,
   "skip_h1_title": false,
   "title_cell": "Table of Contents",
   "title_sidebar": "Contents",
   "toc_cell": false,
   "toc_position": {},
   "toc_section_display": true,
   "toc_window_display": false
  }
 },
 "nbformat": 4,
 "nbformat_minor": 2
}
