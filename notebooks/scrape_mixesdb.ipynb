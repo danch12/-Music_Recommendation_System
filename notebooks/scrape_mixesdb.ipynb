{
 "cells": [
  {
   "cell_type": "code",
   "execution_count": null,
   "metadata": {},
   "outputs": [],
   "source": [
    "import requests\n",
    "import bs4\n",
    "from bs4 import BeautifulSoup\n",
    "\n",
    "import pandas as pd\n",
    "import numpy as np\n",
    "import config\n",
    "from tqdm import tqdm_notebook\n",
    "import tqdm\n",
    "from selenium.common.exceptions import NoSuchElementException, ElementClickInterceptedException\n",
    "from selenium import webdriver\n",
    "import time\n",
    "import pickle\n",
    "import re\n",
    "import spotipy\n",
    "from spotipy.oauth2 import SpotifyClientCredentials\n",
    "from spotipy import oauth2\n",
    "import spotipy.util as util"
   ]
  },
  {
   "cell_type": "code",
   "execution_count": null,
   "metadata": {},
   "outputs": [],
   "source": [
    "import logging\n",
    "logger = logging.getLogger()\n",
    "logger.setLevel(logging.CRITICAL)"
   ]
  },
  {
   "cell_type": "code",
   "execution_count": null,
   "metadata": {},
   "outputs": [],
   "source": [
    "set_list_with_titles=[]"
   ]
  },
  {
   "cell_type": "code",
   "execution_count": null,
   "metadata": {},
   "outputs": [],
   "source": [
    "options = webdriver.ChromeOptions()\n",
    "driver=webdriver.Chrome(executable_path=\"/Users/danielchow/python stuff/job_scrape/chromedriver\", options=options)\n",
    "driver.get(\"https://www.mixesdb.com/w/MixesDB:Explorer/Mixes?do=mx&mode=&cat1=&cat2=&jnC=&style=&year=&tlC=1&tlI=1&so=&tmatch1=&tmatch2=&jnTm=&usesFile=&minHotnessLevel=&count=25&order=name&sort=desc&offset=21125#results\")\n",
    "\n",
    "count=0\n",
    "while count<10000:\n",
    "    time.sleep(1)\n",
    "    try:\n",
    "        python_button =driver.find_element_by_xpath(\"//*[contains(text(), 'next 25')]\")\n",
    "    except:\n",
    "        try:\n",
    "            time.sleep(4)\n",
    "            python_button =driver.find_element_by_xpath(\"//*[contains(text(), 'next 25')]\")\n",
    "        except:\n",
    "            pass\n",
    "    if python_button:\n",
    "        \n",
    "        temp_titles=[]\n",
    "        temp_songs=[]\n",
    "        \n",
    "        time.sleep(2)\n",
    "        songs = driver.find_elements_by_css_selector(\".ExplorerTracklist\")\n",
    "\n",
    "        for e in songs:\n",
    "            temp_list=[]\n",
    "            vals=e.find_elements_by_tag_name('li')\n",
    "            for val in vals:\n",
    "                temp_list.append(val.text)\n",
    "            temp_songs.append(temp_list)\n",
    "\n",
    "        titles = driver.find_elements_by_css_selector(\".explorerTitle\")\n",
    "\n",
    "        for t in titles:\n",
    "            temp_titles.append(t.text)\n",
    "        \n",
    "        \n",
    "        sets=[tup for tup in zip(temp_titles,temp_songs)]\n",
    "        set_list_with_titles.append(sets)\n",
    "        \n",
    "        python_button.click()\n",
    "        time.sleep(2)\n",
    "        count+=1\n",
    "    else:\n",
    "        print('no')"
   ]
  },
  {
   "cell_type": "code",
   "execution_count": null,
   "metadata": {},
   "outputs": [],
   "source": [
    "with open('17375_mixes.pickle', 'wb') as handle:\n",
    "    pickle.dump((set_list_with_titles), handle)"
   ]
  }
 ],
 "metadata": {
  "kernelspec": {
   "display_name": "Python 3",
   "language": "python",
   "name": "python3"
  },
  "toc": {
   "base_numbering": 1,
   "nav_menu": {},
   "number_sections": true,
   "sideBar": true,
   "skip_h1_title": false,
   "title_cell": "Table of Contents",
   "title_sidebar": "Contents",
   "toc_cell": false,
   "toc_position": {},
   "toc_section_display": true,
   "toc_window_display": false
  }
 },
 "nbformat": 4,
 "nbformat_minor": 2
}
